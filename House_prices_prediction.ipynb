{
  "nbformat": 4,
  "nbformat_minor": 0,
  "metadata": {
    "kernelspec": {
      "display_name": "Python 3",
      "language": "python",
      "name": "python3"
    },
    "language_info": {
      "codemirror_mode": {
        "name": "ipython",
        "version": 3
      },
      "file_extension": ".py",
      "mimetype": "text/x-python",
      "name": "python",
      "nbconvert_exporter": "python",
      "pygments_lexer": "ipython3",
      "version": "3.8.5"
    },
    "colab": {
      "name": "House_prices_prediction.ipynb",
      "provenance": [],
      "collapsed_sections": [],
      "toc_visible": true
    }
  },
  "cells": [
    {
      "cell_type": "markdown",
      "metadata": {
        "id": "7nPEP2MFNU3b"
      },
      "source": [
        "# This notebook aims to predict house prices using the popular dataset 'House Prices - Advanced Regression Techniques' on Kaggle.\n",
        "## Going to do some exploratory data analysis to start with as always, then will get started on some regression techniques.\n",
        "### https://www.kaggle.com/c/house-prices-advanced-regression-techniques/data\n",
        "### Some predictions at the end using mlr model and tensorflow neural network."
      ]
    },
    {
      "cell_type": "markdown",
      "metadata": {
        "id": "GzM5tF4JNU3f"
      },
      "source": [
        "#### Load libraries"
      ]
    },
    {
      "cell_type": "code",
      "metadata": {
        "id": "MyKgRrJSNU3g"
      },
      "source": [
        "import pandas as pd\n",
        "import matplotlib.pyplot as plt\n",
        "import seaborn as sns\n",
        "import numpy as np\n",
        "from scipy.stats import norm\n",
        "from sklearn.preprocessing import StandardScaler\n",
        "from scipy import stats"
      ],
      "execution_count": 3,
      "outputs": []
    },
    {
      "cell_type": "markdown",
      "metadata": {
        "id": "kolFXP9rNU3g"
      },
      "source": [
        "#### Load train data and explore"
      ]
    },
    {
      "cell_type": "code",
      "metadata": {
        "id": "yVQmdPqQNU3g"
      },
      "source": [
        "train = pd.read_csv('train.csv')"
      ],
      "execution_count": 4,
      "outputs": []
    },
    {
      "cell_type": "code",
      "metadata": {
        "colab": {
          "base_uri": "https://localhost:8080/",
          "height": 253
        },
        "id": "Zu2v3C7lNU3h",
        "outputId": "3b496dc6-61d2-4454-edad-777d335cbf35"
      },
      "source": [
        "train.head()"
      ],
      "execution_count": 5,
      "outputs": [
        {
          "output_type": "execute_result",
          "data": {
            "text/html": [
              "<div>\n",
              "<style scoped>\n",
              "    .dataframe tbody tr th:only-of-type {\n",
              "        vertical-align: middle;\n",
              "    }\n",
              "\n",
              "    .dataframe tbody tr th {\n",
              "        vertical-align: top;\n",
              "    }\n",
              "\n",
              "    .dataframe thead th {\n",
              "        text-align: right;\n",
              "    }\n",
              "</style>\n",
              "<table border=\"1\" class=\"dataframe\">\n",
              "  <thead>\n",
              "    <tr style=\"text-align: right;\">\n",
              "      <th></th>\n",
              "      <th>Id</th>\n",
              "      <th>MSSubClass</th>\n",
              "      <th>MSZoning</th>\n",
              "      <th>LotFrontage</th>\n",
              "      <th>LotArea</th>\n",
              "      <th>Street</th>\n",
              "      <th>Alley</th>\n",
              "      <th>LotShape</th>\n",
              "      <th>LandContour</th>\n",
              "      <th>Utilities</th>\n",
              "      <th>LotConfig</th>\n",
              "      <th>LandSlope</th>\n",
              "      <th>Neighborhood</th>\n",
              "      <th>Condition1</th>\n",
              "      <th>Condition2</th>\n",
              "      <th>BldgType</th>\n",
              "      <th>HouseStyle</th>\n",
              "      <th>OverallQual</th>\n",
              "      <th>OverallCond</th>\n",
              "      <th>YearBuilt</th>\n",
              "      <th>YearRemodAdd</th>\n",
              "      <th>RoofStyle</th>\n",
              "      <th>RoofMatl</th>\n",
              "      <th>Exterior1st</th>\n",
              "      <th>Exterior2nd</th>\n",
              "      <th>MasVnrType</th>\n",
              "      <th>MasVnrArea</th>\n",
              "      <th>ExterQual</th>\n",
              "      <th>ExterCond</th>\n",
              "      <th>Foundation</th>\n",
              "      <th>BsmtQual</th>\n",
              "      <th>BsmtCond</th>\n",
              "      <th>BsmtExposure</th>\n",
              "      <th>BsmtFinType1</th>\n",
              "      <th>BsmtFinSF1</th>\n",
              "      <th>BsmtFinType2</th>\n",
              "      <th>BsmtFinSF2</th>\n",
              "      <th>BsmtUnfSF</th>\n",
              "      <th>TotalBsmtSF</th>\n",
              "      <th>Heating</th>\n",
              "      <th>...</th>\n",
              "      <th>CentralAir</th>\n",
              "      <th>Electrical</th>\n",
              "      <th>1stFlrSF</th>\n",
              "      <th>2ndFlrSF</th>\n",
              "      <th>LowQualFinSF</th>\n",
              "      <th>GrLivArea</th>\n",
              "      <th>BsmtFullBath</th>\n",
              "      <th>BsmtHalfBath</th>\n",
              "      <th>FullBath</th>\n",
              "      <th>HalfBath</th>\n",
              "      <th>BedroomAbvGr</th>\n",
              "      <th>KitchenAbvGr</th>\n",
              "      <th>KitchenQual</th>\n",
              "      <th>TotRmsAbvGrd</th>\n",
              "      <th>Functional</th>\n",
              "      <th>Fireplaces</th>\n",
              "      <th>FireplaceQu</th>\n",
              "      <th>GarageType</th>\n",
              "      <th>GarageYrBlt</th>\n",
              "      <th>GarageFinish</th>\n",
              "      <th>GarageCars</th>\n",
              "      <th>GarageArea</th>\n",
              "      <th>GarageQual</th>\n",
              "      <th>GarageCond</th>\n",
              "      <th>PavedDrive</th>\n",
              "      <th>WoodDeckSF</th>\n",
              "      <th>OpenPorchSF</th>\n",
              "      <th>EnclosedPorch</th>\n",
              "      <th>3SsnPorch</th>\n",
              "      <th>ScreenPorch</th>\n",
              "      <th>PoolArea</th>\n",
              "      <th>PoolQC</th>\n",
              "      <th>Fence</th>\n",
              "      <th>MiscFeature</th>\n",
              "      <th>MiscVal</th>\n",
              "      <th>MoSold</th>\n",
              "      <th>YrSold</th>\n",
              "      <th>SaleType</th>\n",
              "      <th>SaleCondition</th>\n",
              "      <th>SalePrice</th>\n",
              "    </tr>\n",
              "  </thead>\n",
              "  <tbody>\n",
              "    <tr>\n",
              "      <th>0</th>\n",
              "      <td>1</td>\n",
              "      <td>60</td>\n",
              "      <td>RL</td>\n",
              "      <td>65.0</td>\n",
              "      <td>8450</td>\n",
              "      <td>Pave</td>\n",
              "      <td>NaN</td>\n",
              "      <td>Reg</td>\n",
              "      <td>Lvl</td>\n",
              "      <td>AllPub</td>\n",
              "      <td>Inside</td>\n",
              "      <td>Gtl</td>\n",
              "      <td>CollgCr</td>\n",
              "      <td>Norm</td>\n",
              "      <td>Norm</td>\n",
              "      <td>1Fam</td>\n",
              "      <td>2Story</td>\n",
              "      <td>7</td>\n",
              "      <td>5</td>\n",
              "      <td>2003</td>\n",
              "      <td>2003</td>\n",
              "      <td>Gable</td>\n",
              "      <td>CompShg</td>\n",
              "      <td>VinylSd</td>\n",
              "      <td>VinylSd</td>\n",
              "      <td>BrkFace</td>\n",
              "      <td>196.0</td>\n",
              "      <td>Gd</td>\n",
              "      <td>TA</td>\n",
              "      <td>PConc</td>\n",
              "      <td>Gd</td>\n",
              "      <td>TA</td>\n",
              "      <td>No</td>\n",
              "      <td>GLQ</td>\n",
              "      <td>706</td>\n",
              "      <td>Unf</td>\n",
              "      <td>0</td>\n",
              "      <td>150</td>\n",
              "      <td>856</td>\n",
              "      <td>GasA</td>\n",
              "      <td>...</td>\n",
              "      <td>Y</td>\n",
              "      <td>SBrkr</td>\n",
              "      <td>856</td>\n",
              "      <td>854</td>\n",
              "      <td>0</td>\n",
              "      <td>1710</td>\n",
              "      <td>1</td>\n",
              "      <td>0</td>\n",
              "      <td>2</td>\n",
              "      <td>1</td>\n",
              "      <td>3</td>\n",
              "      <td>1</td>\n",
              "      <td>Gd</td>\n",
              "      <td>8</td>\n",
              "      <td>Typ</td>\n",
              "      <td>0</td>\n",
              "      <td>NaN</td>\n",
              "      <td>Attchd</td>\n",
              "      <td>2003.0</td>\n",
              "      <td>RFn</td>\n",
              "      <td>2</td>\n",
              "      <td>548</td>\n",
              "      <td>TA</td>\n",
              "      <td>TA</td>\n",
              "      <td>Y</td>\n",
              "      <td>0</td>\n",
              "      <td>61</td>\n",
              "      <td>0</td>\n",
              "      <td>0</td>\n",
              "      <td>0</td>\n",
              "      <td>0</td>\n",
              "      <td>NaN</td>\n",
              "      <td>NaN</td>\n",
              "      <td>NaN</td>\n",
              "      <td>0</td>\n",
              "      <td>2</td>\n",
              "      <td>2008</td>\n",
              "      <td>WD</td>\n",
              "      <td>Normal</td>\n",
              "      <td>208500</td>\n",
              "    </tr>\n",
              "    <tr>\n",
              "      <th>1</th>\n",
              "      <td>2</td>\n",
              "      <td>20</td>\n",
              "      <td>RL</td>\n",
              "      <td>80.0</td>\n",
              "      <td>9600</td>\n",
              "      <td>Pave</td>\n",
              "      <td>NaN</td>\n",
              "      <td>Reg</td>\n",
              "      <td>Lvl</td>\n",
              "      <td>AllPub</td>\n",
              "      <td>FR2</td>\n",
              "      <td>Gtl</td>\n",
              "      <td>Veenker</td>\n",
              "      <td>Feedr</td>\n",
              "      <td>Norm</td>\n",
              "      <td>1Fam</td>\n",
              "      <td>1Story</td>\n",
              "      <td>6</td>\n",
              "      <td>8</td>\n",
              "      <td>1976</td>\n",
              "      <td>1976</td>\n",
              "      <td>Gable</td>\n",
              "      <td>CompShg</td>\n",
              "      <td>MetalSd</td>\n",
              "      <td>MetalSd</td>\n",
              "      <td>None</td>\n",
              "      <td>0.0</td>\n",
              "      <td>TA</td>\n",
              "      <td>TA</td>\n",
              "      <td>CBlock</td>\n",
              "      <td>Gd</td>\n",
              "      <td>TA</td>\n",
              "      <td>Gd</td>\n",
              "      <td>ALQ</td>\n",
              "      <td>978</td>\n",
              "      <td>Unf</td>\n",
              "      <td>0</td>\n",
              "      <td>284</td>\n",
              "      <td>1262</td>\n",
              "      <td>GasA</td>\n",
              "      <td>...</td>\n",
              "      <td>Y</td>\n",
              "      <td>SBrkr</td>\n",
              "      <td>1262</td>\n",
              "      <td>0</td>\n",
              "      <td>0</td>\n",
              "      <td>1262</td>\n",
              "      <td>0</td>\n",
              "      <td>1</td>\n",
              "      <td>2</td>\n",
              "      <td>0</td>\n",
              "      <td>3</td>\n",
              "      <td>1</td>\n",
              "      <td>TA</td>\n",
              "      <td>6</td>\n",
              "      <td>Typ</td>\n",
              "      <td>1</td>\n",
              "      <td>TA</td>\n",
              "      <td>Attchd</td>\n",
              "      <td>1976.0</td>\n",
              "      <td>RFn</td>\n",
              "      <td>2</td>\n",
              "      <td>460</td>\n",
              "      <td>TA</td>\n",
              "      <td>TA</td>\n",
              "      <td>Y</td>\n",
              "      <td>298</td>\n",
              "      <td>0</td>\n",
              "      <td>0</td>\n",
              "      <td>0</td>\n",
              "      <td>0</td>\n",
              "      <td>0</td>\n",
              "      <td>NaN</td>\n",
              "      <td>NaN</td>\n",
              "      <td>NaN</td>\n",
              "      <td>0</td>\n",
              "      <td>5</td>\n",
              "      <td>2007</td>\n",
              "      <td>WD</td>\n",
              "      <td>Normal</td>\n",
              "      <td>181500</td>\n",
              "    </tr>\n",
              "    <tr>\n",
              "      <th>2</th>\n",
              "      <td>3</td>\n",
              "      <td>60</td>\n",
              "      <td>RL</td>\n",
              "      <td>68.0</td>\n",
              "      <td>11250</td>\n",
              "      <td>Pave</td>\n",
              "      <td>NaN</td>\n",
              "      <td>IR1</td>\n",
              "      <td>Lvl</td>\n",
              "      <td>AllPub</td>\n",
              "      <td>Inside</td>\n",
              "      <td>Gtl</td>\n",
              "      <td>CollgCr</td>\n",
              "      <td>Norm</td>\n",
              "      <td>Norm</td>\n",
              "      <td>1Fam</td>\n",
              "      <td>2Story</td>\n",
              "      <td>7</td>\n",
              "      <td>5</td>\n",
              "      <td>2001</td>\n",
              "      <td>2002</td>\n",
              "      <td>Gable</td>\n",
              "      <td>CompShg</td>\n",
              "      <td>VinylSd</td>\n",
              "      <td>VinylSd</td>\n",
              "      <td>BrkFace</td>\n",
              "      <td>162.0</td>\n",
              "      <td>Gd</td>\n",
              "      <td>TA</td>\n",
              "      <td>PConc</td>\n",
              "      <td>Gd</td>\n",
              "      <td>TA</td>\n",
              "      <td>Mn</td>\n",
              "      <td>GLQ</td>\n",
              "      <td>486</td>\n",
              "      <td>Unf</td>\n",
              "      <td>0</td>\n",
              "      <td>434</td>\n",
              "      <td>920</td>\n",
              "      <td>GasA</td>\n",
              "      <td>...</td>\n",
              "      <td>Y</td>\n",
              "      <td>SBrkr</td>\n",
              "      <td>920</td>\n",
              "      <td>866</td>\n",
              "      <td>0</td>\n",
              "      <td>1786</td>\n",
              "      <td>1</td>\n",
              "      <td>0</td>\n",
              "      <td>2</td>\n",
              "      <td>1</td>\n",
              "      <td>3</td>\n",
              "      <td>1</td>\n",
              "      <td>Gd</td>\n",
              "      <td>6</td>\n",
              "      <td>Typ</td>\n",
              "      <td>1</td>\n",
              "      <td>TA</td>\n",
              "      <td>Attchd</td>\n",
              "      <td>2001.0</td>\n",
              "      <td>RFn</td>\n",
              "      <td>2</td>\n",
              "      <td>608</td>\n",
              "      <td>TA</td>\n",
              "      <td>TA</td>\n",
              "      <td>Y</td>\n",
              "      <td>0</td>\n",
              "      <td>42</td>\n",
              "      <td>0</td>\n",
              "      <td>0</td>\n",
              "      <td>0</td>\n",
              "      <td>0</td>\n",
              "      <td>NaN</td>\n",
              "      <td>NaN</td>\n",
              "      <td>NaN</td>\n",
              "      <td>0</td>\n",
              "      <td>9</td>\n",
              "      <td>2008</td>\n",
              "      <td>WD</td>\n",
              "      <td>Normal</td>\n",
              "      <td>223500</td>\n",
              "    </tr>\n",
              "    <tr>\n",
              "      <th>3</th>\n",
              "      <td>4</td>\n",
              "      <td>70</td>\n",
              "      <td>RL</td>\n",
              "      <td>60.0</td>\n",
              "      <td>9550</td>\n",
              "      <td>Pave</td>\n",
              "      <td>NaN</td>\n",
              "      <td>IR1</td>\n",
              "      <td>Lvl</td>\n",
              "      <td>AllPub</td>\n",
              "      <td>Corner</td>\n",
              "      <td>Gtl</td>\n",
              "      <td>Crawfor</td>\n",
              "      <td>Norm</td>\n",
              "      <td>Norm</td>\n",
              "      <td>1Fam</td>\n",
              "      <td>2Story</td>\n",
              "      <td>7</td>\n",
              "      <td>5</td>\n",
              "      <td>1915</td>\n",
              "      <td>1970</td>\n",
              "      <td>Gable</td>\n",
              "      <td>CompShg</td>\n",
              "      <td>Wd Sdng</td>\n",
              "      <td>Wd Shng</td>\n",
              "      <td>None</td>\n",
              "      <td>0.0</td>\n",
              "      <td>TA</td>\n",
              "      <td>TA</td>\n",
              "      <td>BrkTil</td>\n",
              "      <td>TA</td>\n",
              "      <td>Gd</td>\n",
              "      <td>No</td>\n",
              "      <td>ALQ</td>\n",
              "      <td>216</td>\n",
              "      <td>Unf</td>\n",
              "      <td>0</td>\n",
              "      <td>540</td>\n",
              "      <td>756</td>\n",
              "      <td>GasA</td>\n",
              "      <td>...</td>\n",
              "      <td>Y</td>\n",
              "      <td>SBrkr</td>\n",
              "      <td>961</td>\n",
              "      <td>756</td>\n",
              "      <td>0</td>\n",
              "      <td>1717</td>\n",
              "      <td>1</td>\n",
              "      <td>0</td>\n",
              "      <td>1</td>\n",
              "      <td>0</td>\n",
              "      <td>3</td>\n",
              "      <td>1</td>\n",
              "      <td>Gd</td>\n",
              "      <td>7</td>\n",
              "      <td>Typ</td>\n",
              "      <td>1</td>\n",
              "      <td>Gd</td>\n",
              "      <td>Detchd</td>\n",
              "      <td>1998.0</td>\n",
              "      <td>Unf</td>\n",
              "      <td>3</td>\n",
              "      <td>642</td>\n",
              "      <td>TA</td>\n",
              "      <td>TA</td>\n",
              "      <td>Y</td>\n",
              "      <td>0</td>\n",
              "      <td>35</td>\n",
              "      <td>272</td>\n",
              "      <td>0</td>\n",
              "      <td>0</td>\n",
              "      <td>0</td>\n",
              "      <td>NaN</td>\n",
              "      <td>NaN</td>\n",
              "      <td>NaN</td>\n",
              "      <td>0</td>\n",
              "      <td>2</td>\n",
              "      <td>2006</td>\n",
              "      <td>WD</td>\n",
              "      <td>Abnorml</td>\n",
              "      <td>140000</td>\n",
              "    </tr>\n",
              "    <tr>\n",
              "      <th>4</th>\n",
              "      <td>5</td>\n",
              "      <td>60</td>\n",
              "      <td>RL</td>\n",
              "      <td>84.0</td>\n",
              "      <td>14260</td>\n",
              "      <td>Pave</td>\n",
              "      <td>NaN</td>\n",
              "      <td>IR1</td>\n",
              "      <td>Lvl</td>\n",
              "      <td>AllPub</td>\n",
              "      <td>FR2</td>\n",
              "      <td>Gtl</td>\n",
              "      <td>NoRidge</td>\n",
              "      <td>Norm</td>\n",
              "      <td>Norm</td>\n",
              "      <td>1Fam</td>\n",
              "      <td>2Story</td>\n",
              "      <td>8</td>\n",
              "      <td>5</td>\n",
              "      <td>2000</td>\n",
              "      <td>2000</td>\n",
              "      <td>Gable</td>\n",
              "      <td>CompShg</td>\n",
              "      <td>VinylSd</td>\n",
              "      <td>VinylSd</td>\n",
              "      <td>BrkFace</td>\n",
              "      <td>350.0</td>\n",
              "      <td>Gd</td>\n",
              "      <td>TA</td>\n",
              "      <td>PConc</td>\n",
              "      <td>Gd</td>\n",
              "      <td>TA</td>\n",
              "      <td>Av</td>\n",
              "      <td>GLQ</td>\n",
              "      <td>655</td>\n",
              "      <td>Unf</td>\n",
              "      <td>0</td>\n",
              "      <td>490</td>\n",
              "      <td>1145</td>\n",
              "      <td>GasA</td>\n",
              "      <td>...</td>\n",
              "      <td>Y</td>\n",
              "      <td>SBrkr</td>\n",
              "      <td>1145</td>\n",
              "      <td>1053</td>\n",
              "      <td>0</td>\n",
              "      <td>2198</td>\n",
              "      <td>1</td>\n",
              "      <td>0</td>\n",
              "      <td>2</td>\n",
              "      <td>1</td>\n",
              "      <td>4</td>\n",
              "      <td>1</td>\n",
              "      <td>Gd</td>\n",
              "      <td>9</td>\n",
              "      <td>Typ</td>\n",
              "      <td>1</td>\n",
              "      <td>TA</td>\n",
              "      <td>Attchd</td>\n",
              "      <td>2000.0</td>\n",
              "      <td>RFn</td>\n",
              "      <td>3</td>\n",
              "      <td>836</td>\n",
              "      <td>TA</td>\n",
              "      <td>TA</td>\n",
              "      <td>Y</td>\n",
              "      <td>192</td>\n",
              "      <td>84</td>\n",
              "      <td>0</td>\n",
              "      <td>0</td>\n",
              "      <td>0</td>\n",
              "      <td>0</td>\n",
              "      <td>NaN</td>\n",
              "      <td>NaN</td>\n",
              "      <td>NaN</td>\n",
              "      <td>0</td>\n",
              "      <td>12</td>\n",
              "      <td>2008</td>\n",
              "      <td>WD</td>\n",
              "      <td>Normal</td>\n",
              "      <td>250000</td>\n",
              "    </tr>\n",
              "  </tbody>\n",
              "</table>\n",
              "<p>5 rows × 81 columns</p>\n",
              "</div>"
            ],
            "text/plain": [
              "   Id  MSSubClass MSZoning  ...  SaleType  SaleCondition SalePrice\n",
              "0   1          60       RL  ...        WD         Normal    208500\n",
              "1   2          20       RL  ...        WD         Normal    181500\n",
              "2   3          60       RL  ...        WD         Normal    223500\n",
              "3   4          70       RL  ...        WD        Abnorml    140000\n",
              "4   5          60       RL  ...        WD         Normal    250000\n",
              "\n",
              "[5 rows x 81 columns]"
            ]
          },
          "metadata": {
            "tags": []
          },
          "execution_count": 5
        }
      ]
    },
    {
      "cell_type": "code",
      "metadata": {
        "colab": {
          "base_uri": "https://localhost:8080/"
        },
        "id": "dayvCgoQNU3h",
        "outputId": "cd298f9b-f5da-4282-bef6-cf61989a0d18"
      },
      "source": [
        "train.columns"
      ],
      "execution_count": 6,
      "outputs": [
        {
          "output_type": "execute_result",
          "data": {
            "text/plain": [
              "Index(['Id', 'MSSubClass', 'MSZoning', 'LotFrontage', 'LotArea', 'Street',\n",
              "       'Alley', 'LotShape', 'LandContour', 'Utilities', 'LotConfig',\n",
              "       'LandSlope', 'Neighborhood', 'Condition1', 'Condition2', 'BldgType',\n",
              "       'HouseStyle', 'OverallQual', 'OverallCond', 'YearBuilt', 'YearRemodAdd',\n",
              "       'RoofStyle', 'RoofMatl', 'Exterior1st', 'Exterior2nd', 'MasVnrType',\n",
              "       'MasVnrArea', 'ExterQual', 'ExterCond', 'Foundation', 'BsmtQual',\n",
              "       'BsmtCond', 'BsmtExposure', 'BsmtFinType1', 'BsmtFinSF1',\n",
              "       'BsmtFinType2', 'BsmtFinSF2', 'BsmtUnfSF', 'TotalBsmtSF', 'Heating',\n",
              "       'HeatingQC', 'CentralAir', 'Electrical', '1stFlrSF', '2ndFlrSF',\n",
              "       'LowQualFinSF', 'GrLivArea', 'BsmtFullBath', 'BsmtHalfBath', 'FullBath',\n",
              "       'HalfBath', 'BedroomAbvGr', 'KitchenAbvGr', 'KitchenQual',\n",
              "       'TotRmsAbvGrd', 'Functional', 'Fireplaces', 'FireplaceQu', 'GarageType',\n",
              "       'GarageYrBlt', 'GarageFinish', 'GarageCars', 'GarageArea', 'GarageQual',\n",
              "       'GarageCond', 'PavedDrive', 'WoodDeckSF', 'OpenPorchSF',\n",
              "       'EnclosedPorch', '3SsnPorch', 'ScreenPorch', 'PoolArea', 'PoolQC',\n",
              "       'Fence', 'MiscFeature', 'MiscVal', 'MoSold', 'YrSold', 'SaleType',\n",
              "       'SaleCondition', 'SalePrice'],\n",
              "      dtype='object')"
            ]
          },
          "metadata": {
            "tags": []
          },
          "execution_count": 6
        }
      ]
    },
    {
      "cell_type": "code",
      "metadata": {
        "colab": {
          "base_uri": "https://localhost:8080/"
        },
        "id": "eAHtxJgVNU3i",
        "outputId": "19a07b4a-f063-49fe-a7b7-341e8525f16d"
      },
      "source": [
        "#Analayse the all important variable, sale price\n",
        "train['SalePrice'].describe()"
      ],
      "execution_count": 7,
      "outputs": [
        {
          "output_type": "execute_result",
          "data": {
            "text/plain": [
              "count      1460.000000\n",
              "mean     180921.195890\n",
              "std       79442.502883\n",
              "min       34900.000000\n",
              "25%      129975.000000\n",
              "50%      163000.000000\n",
              "75%      214000.000000\n",
              "max      755000.000000\n",
              "Name: SalePrice, dtype: float64"
            ]
          },
          "metadata": {
            "tags": []
          },
          "execution_count": 7
        }
      ]
    },
    {
      "cell_type": "code",
      "metadata": {
        "colab": {
          "base_uri": "https://localhost:8080/",
          "height": 361
        },
        "id": "VHtmX00gNU3i",
        "outputId": "113a0d79-3c69-458f-843c-af8d1facb0ae"
      },
      "source": [
        "sns.distplot(train['SalePrice'])"
      ],
      "execution_count": 8,
      "outputs": [
        {
          "output_type": "stream",
          "text": [
            "/usr/local/lib/python3.6/dist-packages/seaborn/distributions.py:2557: FutureWarning: `distplot` is a deprecated function and will be removed in a future version. Please adapt your code to use either `displot` (a figure-level function with similar flexibility) or `histplot` (an axes-level function for histograms).\n",
            "  warnings.warn(msg, FutureWarning)\n"
          ],
          "name": "stderr"
        },
        {
          "output_type": "execute_result",
          "data": {
            "text/plain": [
              "<matplotlib.axes._subplots.AxesSubplot at 0x7f4cb4f9f438>"
            ]
          },
          "metadata": {
            "tags": []
          },
          "execution_count": 8
        },
        {
          "output_type": "display_data",
          "data": {
            "image/png": "[encoded data removed]",
            "text/plain": [
              "<Figure size 432x288 with 1 Axes>"
            ]
          },
          "metadata": {
            "tags": [],
            "needs_background": "light"
          }
        }
      ]
    },
    {
      "cell_type": "code",
      "metadata": {
        "colab": {
          "base_uri": "https://localhost:8080/",
          "height": 350
        },
        "id": "kmEnBHBENU3i",
        "outputId": "d705e590-ab86-4dbe-eadd-5110418825b7"
      },
      "source": [
        "sns.boxplot(train['SalePrice'])"
      ],
      "execution_count": 9,
      "outputs": [
        {
          "output_type": "stream",
          "text": [
            "/usr/local/lib/python3.6/dist-packages/seaborn/_decorators.py:43: FutureWarning: Pass the following variable as a keyword arg: x. From version 0.12, the only valid positional argument will be `data`, and passing other arguments without an explicit keyword will result in an error or misinterpretation.\n",
            "  FutureWarning\n"
          ],
          "name": "stderr"
        },
        {
          "output_type": "execute_result",
          "data": {
            "text/plain": [
              "<matplotlib.axes._subplots.AxesSubplot at 0x7f4cb4c1de80>"
            ]
          },
          "metadata": {
            "tags": []
          },
          "execution_count": 9
        },
        {
          "output_type": "display_data",
          "data": {
            "image/png": "[encoded data removed]",
            "text/plain": [
              "<Figure size 432x288 with 1 Axes>"
            ]
          },
          "metadata": {
            "tags": [],
            "needs_background": "light"
          }
        }
      ]
    },
    {
      "cell_type": "markdown",
      "metadata": {
        "id": "ITrPp8flNU3i"
      },
      "source": [
        "Determine correlation between quantitative variables"
      ]
    },
    {
      "cell_type": "code",
      "metadata": {
        "colab": {
          "base_uri": "https://localhost:8080/"
        },
        "id": "spCokVHqNU3j",
        "outputId": "97bd03bd-8a2d-4a96-af79-1bfd4d22b02c"
      },
      "source": [
        "train.corr()['SalePrice']"
      ],
      "execution_count": 10,
      "outputs": [
        {
          "output_type": "execute_result",
          "data": {
            "text/plain": [
              "Id              -0.021917\n",
              "MSSubClass      -0.084284\n",
              "LotFrontage      0.351799\n",
              "LotArea          0.263843\n",
              "OverallQual      0.790982\n",
              "OverallCond     -0.077856\n",
              "YearBuilt        0.522897\n",
              "YearRemodAdd     0.507101\n",
              "MasVnrArea       0.477493\n",
              "BsmtFinSF1       0.386420\n",
              "BsmtFinSF2      -0.011378\n",
              "BsmtUnfSF        0.214479\n",
              "TotalBsmtSF      0.613581\n",
              "1stFlrSF         0.605852\n",
              "2ndFlrSF         0.319334\n",
              "LowQualFinSF    -0.025606\n",
              "GrLivArea        0.708624\n",
              "BsmtFullBath     0.227122\n",
              "BsmtHalfBath    -0.016844\n",
              "FullBath         0.560664\n",
              "HalfBath         0.284108\n",
              "BedroomAbvGr     0.168213\n",
              "KitchenAbvGr    -0.135907\n",
              "TotRmsAbvGrd     0.533723\n",
              "Fireplaces       0.466929\n",
              "GarageYrBlt      0.486362\n",
              "GarageCars       0.640409\n",
              "GarageArea       0.623431\n",
              "WoodDeckSF       0.324413\n",
              "OpenPorchSF      0.315856\n",
              "EnclosedPorch   -0.128578\n",
              "3SsnPorch        0.044584\n",
              "ScreenPorch      0.111447\n",
              "PoolArea         0.092404\n",
              "MiscVal         -0.021190\n",
              "MoSold           0.046432\n",
              "YrSold          -0.028923\n",
              "SalePrice        1.000000\n",
              "Name: SalePrice, dtype: float64"
            ]
          },
          "metadata": {
            "tags": []
          },
          "execution_count": 10
        }
      ]
    },
    {
      "cell_type": "markdown",
      "metadata": {
        "id": "h75yScYtNU3j"
      },
      "source": [
        "Assess null values and fill"
      ]
    },
    {
      "cell_type": "code",
      "metadata": {
        "colab": {
          "base_uri": "https://localhost:8080/"
        },
        "id": "E1yH3tE9NU3j",
        "outputId": "2a9d2147-61fd-4bae-bc14-1191b368ba5d"
      },
      "source": [
        "train.isnull().any().head(20)"
      ],
      "execution_count": 11,
      "outputs": [
        {
          "output_type": "execute_result",
          "data": {
            "text/plain": [
              "Id              False\n",
              "MSSubClass      False\n",
              "MSZoning        False\n",
              "LotFrontage      True\n",
              "LotArea         False\n",
              "Street          False\n",
              "Alley            True\n",
              "LotShape        False\n",
              "LandContour     False\n",
              "Utilities       False\n",
              "LotConfig       False\n",
              "LandSlope       False\n",
              "Neighborhood    False\n",
              "Condition1      False\n",
              "Condition2      False\n",
              "BldgType        False\n",
              "HouseStyle      False\n",
              "OverallQual     False\n",
              "OverallCond     False\n",
              "YearBuilt       False\n",
              "dtype: bool"
            ]
          },
          "metadata": {
            "tags": []
          },
          "execution_count": 11
        }
      ]
    },
    {
      "cell_type": "code",
      "metadata": {
        "colab": {
          "base_uri": "https://localhost:8080/",
          "height": 638
        },
        "id": "oeueQNONNU3j",
        "outputId": "1eb24783-bae2-437a-944f-b82b2cd77852"
      },
      "source": [
        "train_na = (train.isnull().sum() / len(train)) * 100\n",
        "train_na = train_na.drop(train_na[train_na == 0].index).sort_values(ascending=False)[:30]\n",
        "missing_data = pd.DataFrame({'Missing Ratio' :train_na})\n",
        "missing_data.head(20)"
      ],
      "execution_count": 12,
      "outputs": [
        {
          "output_type": "execute_result",
          "data": {
            "text/html": [
              "<div>\n",
              "<style scoped>\n",
              "    .dataframe tbody tr th:only-of-type {\n",
              "        vertical-align: middle;\n",
              "    }\n",
              "\n",
              "    .dataframe tbody tr th {\n",
              "        vertical-align: top;\n",
              "    }\n",
              "\n",
              "    .dataframe thead th {\n",
              "        text-align: right;\n",
              "    }\n",
              "</style>\n",
              "<table border=\"1\" class=\"dataframe\">\n",
              "  <thead>\n",
              "    <tr style=\"text-align: right;\">\n",
              "      <th></th>\n",
              "      <th>Missing Ratio</th>\n",
              "    </tr>\n",
              "  </thead>\n",
              "  <tbody>\n",
              "    <tr>\n",
              "      <th>PoolQC</th>\n",
              "      <td>99.520548</td>\n",
              "    </tr>\n",
              "    <tr>\n",
              "      <th>MiscFeature</th>\n",
              "      <td>96.301370</td>\n",
              "    </tr>\n",
              "    <tr>\n",
              "      <th>Alley</th>\n",
              "      <td>93.767123</td>\n",
              "    </tr>\n",
              "    <tr>\n",
              "      <th>Fence</th>\n",
              "      <td>80.753425</td>\n",
              "    </tr>\n",
              "    <tr>\n",
              "      <th>FireplaceQu</th>\n",
              "      <td>47.260274</td>\n",
              "    </tr>\n",
              "    <tr>\n",
              "      <th>LotFrontage</th>\n",
              "      <td>17.739726</td>\n",
              "    </tr>\n",
              "    <tr>\n",
              "      <th>GarageYrBlt</th>\n",
              "      <td>5.547945</td>\n",
              "    </tr>\n",
              "    <tr>\n",
              "      <th>GarageType</th>\n",
              "      <td>5.547945</td>\n",
              "    </tr>\n",
              "    <tr>\n",
              "      <th>GarageFinish</th>\n",
              "      <td>5.547945</td>\n",
              "    </tr>\n",
              "    <tr>\n",
              "      <th>GarageQual</th>\n",
              "      <td>5.547945</td>\n",
              "    </tr>\n",
              "    <tr>\n",
              "      <th>GarageCond</th>\n",
              "      <td>5.547945</td>\n",
              "    </tr>\n",
              "    <tr>\n",
              "      <th>BsmtFinType2</th>\n",
              "      <td>2.602740</td>\n",
              "    </tr>\n",
              "    <tr>\n",
              "      <th>BsmtExposure</th>\n",
              "      <td>2.602740</td>\n",
              "    </tr>\n",
              "    <tr>\n",
              "      <th>BsmtFinType1</th>\n",
              "      <td>2.534247</td>\n",
              "    </tr>\n",
              "    <tr>\n",
              "      <th>BsmtCond</th>\n",
              "      <td>2.534247</td>\n",
              "    </tr>\n",
              "    <tr>\n",
              "      <th>BsmtQual</th>\n",
              "      <td>2.534247</td>\n",
              "    </tr>\n",
              "    <tr>\n",
              "      <th>MasVnrArea</th>\n",
              "      <td>0.547945</td>\n",
              "    </tr>\n",
              "    <tr>\n",
              "      <th>MasVnrType</th>\n",
              "      <td>0.547945</td>\n",
              "    </tr>\n",
              "    <tr>\n",
              "      <th>Electrical</th>\n",
              "      <td>0.068493</td>\n",
              "    </tr>\n",
              "  </tbody>\n",
              "</table>\n",
              "</div>"
            ],
            "text/plain": [
              "              Missing Ratio\n",
              "PoolQC            99.520548\n",
              "MiscFeature       96.301370\n",
              "Alley             93.767123\n",
              "Fence             80.753425\n",
              "FireplaceQu       47.260274\n",
              "LotFrontage       17.739726\n",
              "GarageYrBlt        5.547945\n",
              "GarageType         5.547945\n",
              "GarageFinish       5.547945\n",
              "GarageQual         5.547945\n",
              "GarageCond         5.547945\n",
              "BsmtFinType2       2.602740\n",
              "BsmtExposure       2.602740\n",
              "BsmtFinType1       2.534247\n",
              "BsmtCond           2.534247\n",
              "BsmtQual           2.534247\n",
              "MasVnrArea         0.547945\n",
              "MasVnrType         0.547945\n",
              "Electrical         0.068493"
            ]
          },
          "metadata": {
            "tags": []
          },
          "execution_count": 12
        }
      ]
    },
    {
      "cell_type": "code",
      "metadata": {
        "colab": {
          "base_uri": "https://localhost:8080/",
          "height": 816
        },
        "id": "Hv8efiEXNU3k",
        "outputId": "eed23ccf-eb8b-49e6-8639-bff4f62a78d5"
      },
      "source": [
        "f, ax = plt.subplots(figsize=(15, 12))\n",
        "plt.xticks(rotation='90')\n",
        "sns.barplot(x=train_na.index, y=train_na)\n",
        "plt.xlabel('Features', fontsize=15)\n",
        "plt.ylabel('Percent of missing values', fontsize=15)\n",
        "plt.title('Percent missing data by feature', fontsize=15)"
      ],
      "execution_count": 13,
      "outputs": [
        {
          "output_type": "execute_result",
          "data": {
            "text/plain": [
              "Text(0.5, 1.0, 'Percent missing data by feature')"
            ]
          },
          "metadata": {
            "tags": []
          },
          "execution_count": 13
        },
        {
          "output_type": "display_data",
          "data": {
            "image/png": "[encoded data removed]",
            "text/plain": [
              "<Figure size 1080x864 with 1 Axes>"
            ]
          },
          "metadata": {
            "tags": [],
            "needs_background": "light"
          }
        }
      ]
    },
    {
      "cell_type": "markdown",
      "metadata": {
        "id": "iqQz1W6ENU3k"
      },
      "source": [
        "Since na values means 'nothing' for following columns:"
      ]
    },
    {
      "cell_type": "code",
      "metadata": {
        "id": "JMoqMTnsNU3k"
      },
      "source": [
        "for col in ('GarageType', 'GarageFinish', 'GarageQual', 'GarageCond', \"PoolQC\", \"MiscFeature\", \"Alley\", \"Fence\", \"FireplaceQu\", 'BsmtQual', 'BsmtCond', 'BsmtExposure', 'BsmtFinType1', 'BsmtFinType2', \"MasVnrType\", 'MSSubClass'):\n",
        "    train[col] = train[col].fillna('None')"
      ],
      "execution_count": 14,
      "outputs": []
    },
    {
      "cell_type": "markdown",
      "metadata": {
        "id": "2dryyEjgNU3k"
      },
      "source": [
        "Fill null values of lot frontage with median for neighbourhood"
      ]
    },
    {
      "cell_type": "code",
      "metadata": {
        "id": "Mjq4xzPINU3k"
      },
      "source": [
        "train[\"LotFrontage\"] = train.groupby(\"Neighborhood\")[\"LotFrontage\"].transform(\n",
        "    lambda x: x.fillna(x.median()))"
      ],
      "execution_count": 15,
      "outputs": []
    },
    {
      "cell_type": "markdown",
      "metadata": {
        "id": "QwZWjuQiNU3k"
      },
      "source": [
        "Since null values of following columns (likely) means zero"
      ]
    },
    {
      "cell_type": "code",
      "metadata": {
        "id": "rSPcaDeDNU3l"
      },
      "source": [
        "for col in ('GarageYrBlt', 'GarageArea', 'GarageCars', 'BsmtFinSF1', 'BsmtFinSF2', 'BsmtUnfSF','TotalBsmtSF', 'BsmtFullBath', 'BsmtHalfBath', \"MasVnrArea\"):\n",
        "    train[col] = train[col].fillna(0)"
      ],
      "execution_count": 16,
      "outputs": []
    },
    {
      "cell_type": "markdown",
      "metadata": {
        "id": "Lpc8vkl1NU3l"
      },
      "source": [
        "fill zoning with most common values for column"
      ]
    },
    {
      "cell_type": "code",
      "metadata": {
        "id": "GGBFIDEpNU3l"
      },
      "source": [
        "train['MSZoning'] = train['MSZoning'].fillna(train['MSZoning'].mode()[0])"
      ],
      "execution_count": 17,
      "outputs": []
    },
    {
      "cell_type": "markdown",
      "metadata": {
        "id": "wZbJx0kvNU3l"
      },
      "source": [
        "data description says null likely means typical"
      ]
    },
    {
      "cell_type": "code",
      "metadata": {
        "id": "iLgombvWNU3l"
      },
      "source": [
        "train[\"Functional\"] = train[\"Functional\"].fillna(\"Typ\")"
      ],
      "execution_count": 18,
      "outputs": []
    },
    {
      "cell_type": "code",
      "metadata": {
        "id": "FOqlJAooNU3l"
      },
      "source": [
        "train['Electrical'] = train['Electrical'].fillna(train['Electrical'].mode()[0])\n",
        "train['KitchenQual'] = train['KitchenQual'].fillna(train['KitchenQual'].mode()[0])\n",
        "train['Exterior1st'] = train['Exterior1st'].fillna(train['Exterior1st'].mode()[0])\n",
        "train['Exterior2nd'] = train['Exterior2nd'].fillna(train['Exterior2nd'].mode()[0])"
      ],
      "execution_count": 19,
      "outputs": []
    },
    {
      "cell_type": "code",
      "metadata": {
        "id": "exfSJxZFNU3l"
      },
      "source": [
        "train['SaleType'] = train['SaleType'].fillna(train['SaleType'].mode()[0])"
      ],
      "execution_count": 20,
      "outputs": []
    },
    {
      "cell_type": "markdown",
      "metadata": {
        "id": "RHOhdPTINU3l"
      },
      "source": [
        "Check any remaining null values"
      ]
    },
    {
      "cell_type": "code",
      "metadata": {
        "colab": {
          "base_uri": "https://localhost:8080/",
          "height": 49
        },
        "id": "gZ9ZeZjYNU3m",
        "outputId": "8265922c-6f0a-4fdb-dc44-b14022623475"
      },
      "source": [
        "train_na = (train.isnull().sum() / len(train)) * 100\n",
        "train_na = train_na.drop(train_na[train_na == 0].index).sort_values(ascending=False)\n",
        "missing_data = pd.DataFrame({'Missing Ratio' :train_na})\n",
        "missing_data.head()"
      ],
      "execution_count": 21,
      "outputs": [
        {
          "output_type": "execute_result",
          "data": {
            "text/html": [
              "<div>\n",
              "<style scoped>\n",
              "    .dataframe tbody tr th:only-of-type {\n",
              "        vertical-align: middle;\n",
              "    }\n",
              "\n",
              "    .dataframe tbody tr th {\n",
              "        vertical-align: top;\n",
              "    }\n",
              "\n",
              "    .dataframe thead th {\n",
              "        text-align: right;\n",
              "    }\n",
              "</style>\n",
              "<table border=\"1\" class=\"dataframe\">\n",
              "  <thead>\n",
              "    <tr style=\"text-align: right;\">\n",
              "      <th></th>\n",
              "      <th>Missing Ratio</th>\n",
              "    </tr>\n",
              "  </thead>\n",
              "  <tbody>\n",
              "  </tbody>\n",
              "</table>\n",
              "</div>"
            ],
            "text/plain": [
              "Empty DataFrame\n",
              "Columns: [Missing Ratio]\n",
              "Index: []"
            ]
          },
          "metadata": {
            "tags": []
          },
          "execution_count": 21
        }
      ]
    },
    {
      "cell_type": "markdown",
      "metadata": {
        "id": "EoMM94RRNU3m"
      },
      "source": [
        "All good"
      ]
    },
    {
      "cell_type": "markdown",
      "metadata": {
        "id": "UdXARj7GNU3m"
      },
      "source": [
        "### Some more feature engineerign"
      ]
    },
    {
      "cell_type": "markdown",
      "metadata": {
        "id": "zEr6Uca_NU3m"
      },
      "source": [
        "Utilities column won't help, therefore removed"
      ]
    },
    {
      "cell_type": "code",
      "metadata": {
        "id": "cKLFyh1XNU3m"
      },
      "source": [
        "train = train.drop(['Utilities'], axis=1)"
      ],
      "execution_count": 22,
      "outputs": []
    },
    {
      "cell_type": "code",
      "metadata": {
        "id": "5_qGAdSlNU3m"
      },
      "source": [
        "train = pd.get_dummies(train)"
      ],
      "execution_count": 23,
      "outputs": []
    },
    {
      "cell_type": "markdown",
      "metadata": {
        "id": "Ez-dO2BUNU3m"
      },
      "source": [
        "#### Train Test Split"
      ]
    },
    {
      "cell_type": "code",
      "metadata": {
        "id": "_fgu9CkRNU3m"
      },
      "source": [
        "from sklearn.model_selection import train_test_split"
      ],
      "execution_count": 24,
      "outputs": []
    },
    {
      "cell_type": "code",
      "metadata": {
        "id": "zWVaS-eyNU3n"
      },
      "source": [
        "feature_columns = train.columns[train.columns != 'SalePrice']\n",
        "features = train[feature_columns]"
      ],
      "execution_count": 25,
      "outputs": []
    },
    {
      "cell_type": "code",
      "metadata": {
        "id": "uok-JrrKNU3n"
      },
      "source": [
        "labels = train['SalePrice']"
      ],
      "execution_count": 26,
      "outputs": []
    },
    {
      "cell_type": "code",
      "metadata": {
        "id": "W8-YkxnyNU3n"
      },
      "source": [
        "features_train, features_test, labels_train, labels_test = train_test_split(features, labels, test_size=0.33, random_state=42)"
      ],
      "execution_count": 27,
      "outputs": []
    },
    {
      "cell_type": "markdown",
      "metadata": {
        "id": "ANCPbm33NU3n"
      },
      "source": [
        "#### Column Transformer to scale data"
      ]
    },
    {
      "cell_type": "code",
      "metadata": {
        "id": "n-hOpy_sNU3n"
      },
      "source": [
        "from sklearn.compose import ColumnTransformer\n",
        "from sklearn.preprocessing import Normalizer"
      ],
      "execution_count": 28,
      "outputs": []
    },
    {
      "cell_type": "code",
      "metadata": {
        "id": "sn3aHeT_NU3n"
      },
      "source": [
        "ct = ColumnTransformer([('normalize', Normalizer(), feature_columns)], remainder='passthrough')"
      ],
      "execution_count": 29,
      "outputs": []
    },
    {
      "cell_type": "code",
      "metadata": {
        "id": "CkK_SUX7NU3n"
      },
      "source": [
        "features_train_norm = ct.fit_transform(features_train) "
      ],
      "execution_count": 30,
      "outputs": []
    },
    {
      "cell_type": "code",
      "metadata": {
        "id": "56_I4oBaNU3n"
      },
      "source": [
        "features_test_norm = ct.transform(features_test)"
      ],
      "execution_count": 31,
      "outputs": []
    },
    {
      "cell_type": "code",
      "metadata": {
        "id": "TXJC5bs2NU3o"
      },
      "source": [
        "features_train_norm = pd.DataFrame(features_train_norm, columns = feature_columns)\n",
        "features_test_norm = pd.DataFrame(features_test_norm, columns = feature_columns)"
      ],
      "execution_count": 32,
      "outputs": []
    },
    {
      "cell_type": "markdown",
      "metadata": {
        "id": "oDw6l0nPNU3o"
      },
      "source": [
        "### Mulitple Linear Regression\n",
        "#### Simple mlr model using sklearn to get base predictions"
      ]
    },
    {
      "cell_type": "code",
      "metadata": {
        "id": "i3IlyGs1NU3o"
      },
      "source": [
        "from sklearn.linear_model import LinearRegression"
      ],
      "execution_count": 33,
      "outputs": []
    },
    {
      "cell_type": "code",
      "metadata": {
        "id": "spDPK5p7NU3o"
      },
      "source": [
        "mlr = LinearRegression()"
      ],
      "execution_count": 34,
      "outputs": []
    },
    {
      "cell_type": "code",
      "metadata": {
        "id": "DdY6AM7zNU3o"
      },
      "source": [
        "model_mlr = mlr.fit(features_train_norm, labels_train)"
      ],
      "execution_count": 35,
      "outputs": []
    },
    {
      "cell_type": "code",
      "metadata": {
        "id": "8EH0yoIxNU3o"
      },
      "source": [
        "y_mlr_predict = model_mlr.predict(features_test_norm)"
      ],
      "execution_count": 36,
      "outputs": []
    },
    {
      "cell_type": "markdown",
      "metadata": {
        "id": "o1-cLoWNNU3o"
      },
      "source": [
        "Get scores for sklearn linearregression model"
      ]
    },
    {
      "cell_type": "code",
      "metadata": {
        "colab": {
          "base_uri": "https://localhost:8080/"
        },
        "id": "8Vix8oseNU3o",
        "outputId": "8c32caea-da71-4c72-e3c4-25f205060bfa"
      },
      "source": [
        "print(\"Train score:\")\n",
        "print(model_mlr.score(features_train_norm, labels_train))\n",
        "print(\"Test score:\")\n",
        "print(model_mlr.score(features_test_norm, labels_test))"
      ],
      "execution_count": 37,
      "outputs": [
        {
          "output_type": "stream",
          "text": [
            "Train score:\n",
            "0.8648888470308341\n",
            "Test score:\n",
            "0.7101347994853393\n"
          ],
          "name": "stdout"
        }
      ]
    },
    {
      "cell_type": "code",
      "metadata": {
        "id": "qtF1PPp-fcjk"
      },
      "source": [
        "from sklearn.metrics import mean_absolute_error"
      ],
      "execution_count": 116,
      "outputs": []
    },
    {
      "cell_type": "code",
      "metadata": {
        "colab": {
          "base_uri": "https://localhost:8080/"
        },
        "id": "mELqxZU1ffd_",
        "outputId": "d7d3f008-7f49-4d1d-8d24-32485bdfb9ba"
      },
      "source": [
        "mlr_mae = mean_absolute_error(labels_test, y_mlr_predict)\n",
        "mlr_mae"
      ],
      "execution_count": 119,
      "outputs": [
        {
          "output_type": "execute_result",
          "data": {
            "text/plain": [
              "27617.86228707701"
            ]
          },
          "metadata": {
            "tags": []
          },
          "execution_count": 119
        }
      ]
    },
    {
      "cell_type": "markdown",
      "metadata": {
        "id": "FhRy1wC3NU3p"
      },
      "source": [
        "Not bad, must be a fair bit of overfitting though"
      ]
    },
    {
      "cell_type": "code",
      "metadata": {
        "colab": {
          "base_uri": "https://localhost:8080/",
          "height": 299
        },
        "id": "a28fav-sNU3p",
        "outputId": "871310ea-7996-4b0c-a1d2-f6c9149f7819"
      },
      "source": [
        "plt.scatter(labels_test, y_mlr_predict)\n",
        "x = range(500000)\n",
        "y = range(500000)\n",
        "plt.plot(x, y , color='red')\n",
        "plt.xlabel(\"Prices: $Y_i$\")\n",
        "plt.ylabel(\"Predicted prices: $\\hat{Y}_i$\")\n",
        "plt.title(\"Actual Rent vs Predicted Rent\")\n",
        "\n",
        "plt.show()"
      ],
      "execution_count": 107,
      "outputs": [
        {
          "output_type": "display_data",
          "data": {
            "image/png": "[encoded data removed]",
            "text/plain": [
              "<Figure size 432x288 with 1 Axes>"
            ]
          },
          "metadata": {
            "tags": [],
            "needs_background": "light"
          }
        }
      ]
    },
    {
      "cell_type": "markdown",
      "metadata": {
        "id": "4djOjomyNU3p"
      },
      "source": [
        "Can see greater skew towards the higher end of the price range. This is due to the limited data, and could be improved using gradient boosting."
      ]
    },
    {
      "cell_type": "markdown",
      "metadata": {
        "id": "dvteerjeNU3p"
      },
      "source": [
        "### Create a regression model using Tensorflow"
      ]
    },
    {
      "cell_type": "code",
      "metadata": {
        "id": "hSiBJ2ygNU3p"
      },
      "source": [
        "import tensorflow\n",
        "\n",
        "from sklearn.preprocessing import StandardScaler\n",
        "from tensorflow.keras.models import Sequential\n",
        "from tensorflow.keras.layers import InputLayer\n",
        "from tensorflow.keras.layers import Dense, Dropout\n",
        "from tensorflow.keras.optimizers import Adam\n",
        "from tensorflow.keras.callbacks import EarlyStopping\n"
      ],
      "execution_count": 94,
      "outputs": []
    },
    {
      "cell_type": "markdown",
      "metadata": {
        "id": "L68GmZRDUeZe"
      },
      "source": [
        "Create a design model function to create neural network"
      ]
    },
    {
      "cell_type": "code",
      "metadata": {
        "id": "Bws2IueXNU3p"
      },
      "source": [
        "def design_model():\n",
        "  model = Sequential()\n",
        "  input = InputLayer(input_shape=(features.shape[1],)) \n",
        "  model.add(input) \n",
        "  model.add(Dense(128, activation='relu'))\n",
        "  model.add(Dropout(0.1))\n",
        "  model.add(Dense(64, activation = 'relu'))\n",
        "  model.add(Dropout(0.2))\n",
        "  model.add(Dense(24, activation = 'relu'))\n",
        "  model.add(Dense(1)) \n",
        "  opt = Adam(learning_rate=0.01)\n",
        "  model.compile(loss='mse',  metrics=['mae'], optimizer=opt)\n",
        "  return model"
      ],
      "execution_count": 88,
      "outputs": []
    },
    {
      "cell_type": "markdown",
      "metadata": {
        "id": "8c_BjkjlUiir"
      },
      "source": [
        "Initial fit using random hyperparameters."
      ]
    },
    {
      "cell_type": "code",
      "metadata": {
        "id": "A1S-NwLhYgzj"
      },
      "source": [
        "es = EarlyStopping(monitor='val_loss', mode='min', verbose=1, patience=20)"
      ],
      "execution_count": 97,
      "outputs": []
    },
    {
      "cell_type": "code",
      "metadata": {
        "colab": {
          "base_uri": "https://localhost:8080/"
        },
        "id": "_pTyMtIENU3p",
        "outputId": "16a018ed-1013-4546-ea19-2b4daf72d6ca"
      },
      "source": [
        "model = design_model()\n",
        "model.fit(features_train_norm, labels_train, epochs=100, batch_size=16, callbacks=[es])"
      ],
      "execution_count": 98,
      "outputs": [
        {
          "output_type": "stream",
          "text": [
            "Epoch 1/100\n",
            "62/62 [==============================] - 1s 2ms/step - loss: 37559540394.6667 - mae: 180250.7755\n",
            "WARNING:tensorflow:Early stopping conditioned on metric `val_loss` which is not available. Available metrics are: loss,mae\n",
            "Epoch 2/100\n",
            "62/62 [==============================] - 0s 2ms/step - loss: 15739373730.5397 - mae: 98233.1725\n",
            "WARNING:tensorflow:Early stopping conditioned on metric `val_loss` which is not available. Available metrics are: loss,mae\n",
            "Epoch 3/100\n",
            "62/62 [==============================] - 0s 2ms/step - loss: 6614577542.0952 - mae: 59325.7375\n",
            "WARNING:tensorflow:Early stopping conditioned on metric `val_loss` which is not available. Available metrics are: loss,mae\n",
            "Epoch 4/100\n",
            "62/62 [==============================] - 0s 2ms/step - loss: 6203003392.0000 - mae: 58027.9584\n",
            "WARNING:tensorflow:Early stopping conditioned on metric `val_loss` which is not available. Available metrics are: loss,mae\n",
            "Epoch 5/100\n",
            "62/62 [==============================] - 0s 2ms/step - loss: 6398389101.7143 - mae: 57904.6282\n",
            "WARNING:tensorflow:Early stopping conditioned on metric `val_loss` which is not available. Available metrics are: loss,mae\n",
            "Epoch 6/100\n",
            "62/62 [==============================] - 0s 2ms/step - loss: 4688888039.6190 - mae: 50068.9005\n",
            "WARNING:tensorflow:Early stopping conditioned on metric `val_loss` which is not available. Available metrics are: loss,mae\n",
            "Epoch 7/100\n",
            "62/62 [==============================] - 0s 2ms/step - loss: 5153635197.9683 - mae: 51377.4831\n",
            "WARNING:tensorflow:Early stopping conditioned on metric `val_loss` which is not available. Available metrics are: loss,mae\n",
            "Epoch 8/100\n",
            "62/62 [==============================] - 0s 2ms/step - loss: 4171065022.9841 - mae: 47533.1053\n",
            "WARNING:tensorflow:Early stopping conditioned on metric `val_loss` which is not available. Available metrics are: loss,mae\n",
            "Epoch 9/100\n",
            "62/62 [==============================] - 0s 2ms/step - loss: 3478873266.7937 - mae: 44395.0438\n",
            "WARNING:tensorflow:Early stopping conditioned on metric `val_loss` which is not available. Available metrics are: loss,mae\n",
            "Epoch 10/100\n",
            "62/62 [==============================] - 0s 2ms/step - loss: 3973477176.8889 - mae: 45127.8397\n",
            "WARNING:tensorflow:Early stopping conditioned on metric `val_loss` which is not available. Available metrics are: loss,mae\n",
            "Epoch 11/100\n",
            "62/62 [==============================] - 0s 2ms/step - loss: 3829024140.1905 - mae: 43045.5439\n",
            "WARNING:tensorflow:Early stopping conditioned on metric `val_loss` which is not available. Available metrics are: loss,mae\n",
            "Epoch 12/100\n",
            "62/62 [==============================] - 0s 2ms/step - loss: 3592317261.2063 - mae: 42030.4591\n",
            "WARNING:tensorflow:Early stopping conditioned on metric `val_loss` which is not available. Available metrics are: loss,mae\n",
            "Epoch 13/100\n",
            "62/62 [==============================] - 0s 2ms/step - loss: 3044238941.4603 - mae: 39942.6961\n",
            "WARNING:tensorflow:Early stopping conditioned on metric `val_loss` which is not available. Available metrics are: loss,mae\n",
            "Epoch 14/100\n",
            "62/62 [==============================] - 0s 2ms/step - loss: 3250939363.5556 - mae: 38797.2736\n",
            "WARNING:tensorflow:Early stopping conditioned on metric `val_loss` which is not available. Available metrics are: loss,mae\n",
            "Epoch 15/100\n",
            "62/62 [==============================] - 0s 2ms/step - loss: 2993215752.1270 - mae: 38643.2617\n",
            "WARNING:tensorflow:Early stopping conditioned on metric `val_loss` which is not available. Available metrics are: loss,mae\n",
            "Epoch 16/100\n",
            "62/62 [==============================] - 0s 2ms/step - loss: 2641039920.7619 - mae: 37281.4076\n",
            "WARNING:tensorflow:Early stopping conditioned on metric `val_loss` which is not available. Available metrics are: loss,mae\n",
            "Epoch 17/100\n",
            "62/62 [==============================] - 0s 2ms/step - loss: 2330282562.0317 - mae: 34755.7964\n",
            "WARNING:tensorflow:Early stopping conditioned on metric `val_loss` which is not available. Available metrics are: loss,mae\n",
            "Epoch 18/100\n",
            "62/62 [==============================] - 0s 2ms/step - loss: 2506401716.8254 - mae: 36653.4528\n",
            "WARNING:tensorflow:Early stopping conditioned on metric `val_loss` which is not available. Available metrics are: loss,mae\n",
            "Epoch 19/100\n",
            "62/62 [==============================] - 0s 2ms/step - loss: 2576456980.3175 - mae: 35971.9834\n",
            "WARNING:tensorflow:Early stopping conditioned on metric `val_loss` which is not available. Available metrics are: loss,mae\n",
            "Epoch 20/100\n",
            "62/62 [==============================] - 0s 2ms/step - loss: 2402278039.3651 - mae: 34219.5732\n",
            "WARNING:tensorflow:Early stopping conditioned on metric `val_loss` which is not available. Available metrics are: loss,mae\n",
            "Epoch 21/100\n",
            "62/62 [==============================] - 0s 2ms/step - loss: 2398676386.5397 - mae: 33647.2739\n",
            "WARNING:tensorflow:Early stopping conditioned on metric `val_loss` which is not available. Available metrics are: loss,mae\n",
            "Epoch 22/100\n",
            "62/62 [==============================] - 0s 2ms/step - loss: 2389071577.3968 - mae: 33920.9220\n",
            "WARNING:tensorflow:Early stopping conditioned on metric `val_loss` which is not available. Available metrics are: loss,mae\n",
            "Epoch 23/100\n",
            "62/62 [==============================] - 0s 2ms/step - loss: 2177489706.6667 - mae: 32970.2017\n",
            "WARNING:tensorflow:Early stopping conditioned on metric `val_loss` which is not available. Available metrics are: loss,mae\n",
            "Epoch 24/100\n",
            "62/62 [==============================] - 0s 2ms/step - loss: 2588708128.5079 - mae: 34524.8881\n",
            "WARNING:tensorflow:Early stopping conditioned on metric `val_loss` which is not available. Available metrics are: loss,mae\n",
            "Epoch 25/100\n",
            "62/62 [==============================] - 0s 2ms/step - loss: 2670502577.7778 - mae: 37313.6644\n",
            "WARNING:tensorflow:Early stopping conditioned on metric `val_loss` which is not available. Available metrics are: loss,mae\n",
            "Epoch 26/100\n",
            "62/62 [==============================] - 0s 2ms/step - loss: 2599421106.7937 - mae: 33417.6341\n",
            "WARNING:tensorflow:Early stopping conditioned on metric `val_loss` which is not available. Available metrics are: loss,mae\n",
            "Epoch 27/100\n",
            "62/62 [==============================] - 0s 2ms/step - loss: 2028479494.0952 - mae: 31114.2095\n",
            "WARNING:tensorflow:Early stopping conditioned on metric `val_loss` which is not available. Available metrics are: loss,mae\n",
            "Epoch 28/100\n",
            "62/62 [==============================] - 0s 2ms/step - loss: 2015512683.6825 - mae: 31114.4062\n",
            "WARNING:tensorflow:Early stopping conditioned on metric `val_loss` which is not available. Available metrics are: loss,mae\n",
            "Epoch 29/100\n",
            "62/62 [==============================] - 0s 2ms/step - loss: 2156028856.8889 - mae: 31666.7879\n",
            "WARNING:tensorflow:Early stopping conditioned on metric `val_loss` which is not available. Available metrics are: loss,mae\n",
            "Epoch 30/100\n",
            "62/62 [==============================] - 0s 2ms/step - loss: 1875727688.1270 - mae: 31695.7301\n",
            "WARNING:tensorflow:Early stopping conditioned on metric `val_loss` which is not available. Available metrics are: loss,mae\n",
            "Epoch 31/100\n",
            "62/62 [==============================] - 0s 2ms/step - loss: 2219793277.9683 - mae: 31231.1529\n",
            "WARNING:tensorflow:Early stopping conditioned on metric `val_loss` which is not available. Available metrics are: loss,mae\n",
            "Epoch 32/100\n",
            "62/62 [==============================] - 0s 2ms/step - loss: 2249303318.3492 - mae: 33302.1699\n",
            "WARNING:tensorflow:Early stopping conditioned on metric `val_loss` which is not available. Available metrics are: loss,mae\n",
            "Epoch 33/100\n",
            "62/62 [==============================] - 0s 2ms/step - loss: 2008912278.3492 - mae: 32058.4701\n",
            "WARNING:tensorflow:Early stopping conditioned on metric `val_loss` which is not available. Available metrics are: loss,mae\n",
            "Epoch 34/100\n",
            "62/62 [==============================] - 0s 2ms/step - loss: 1725844408.8889 - mae: 29837.6706\n",
            "WARNING:tensorflow:Early stopping conditioned on metric `val_loss` which is not available. Available metrics are: loss,mae\n",
            "Epoch 35/100\n",
            "62/62 [==============================] - 0s 2ms/step - loss: 1831557660.4444 - mae: 30046.7963\n",
            "WARNING:tensorflow:Early stopping conditioned on metric `val_loss` which is not available. Available metrics are: loss,mae\n",
            "Epoch 36/100\n",
            "62/62 [==============================] - 0s 2ms/step - loss: 2047623531.6825 - mae: 31607.2601\n",
            "WARNING:tensorflow:Early stopping conditioned on metric `val_loss` which is not available. Available metrics are: loss,mae\n",
            "Epoch 37/100\n",
            "62/62 [==============================] - 0s 2ms/step - loss: 2006972395.6825 - mae: 31411.2500\n",
            "WARNING:tensorflow:Early stopping conditioned on metric `val_loss` which is not available. Available metrics are: loss,mae\n",
            "Epoch 38/100\n",
            "62/62 [==============================] - 0s 2ms/step - loss: 2070165735.6190 - mae: 31855.2097\n",
            "WARNING:tensorflow:Early stopping conditioned on metric `val_loss` which is not available. Available metrics are: loss,mae\n",
            "Epoch 39/100\n",
            "62/62 [==============================] - 0s 2ms/step - loss: 1934577159.1111 - mae: 30902.3030\n",
            "WARNING:tensorflow:Early stopping conditioned on metric `val_loss` which is not available. Available metrics are: loss,mae\n",
            "Epoch 40/100\n",
            "62/62 [==============================] - 0s 2ms/step - loss: 2292687087.7460 - mae: 32784.7015\n",
            "WARNING:tensorflow:Early stopping conditioned on metric `val_loss` which is not available. Available metrics are: loss,mae\n",
            "Epoch 41/100\n",
            "62/62 [==============================] - 0s 2ms/step - loss: 1646268052.3175 - mae: 28723.8204\n",
            "WARNING:tensorflow:Early stopping conditioned on metric `val_loss` which is not available. Available metrics are: loss,mae\n",
            "Epoch 42/100\n",
            "62/62 [==============================] - 0s 2ms/step - loss: 1753870560.5079 - mae: 29900.1726\n",
            "WARNING:tensorflow:Early stopping conditioned on metric `val_loss` which is not available. Available metrics are: loss,mae\n",
            "Epoch 43/100\n",
            "62/62 [==============================] - 0s 2ms/step - loss: 2144035795.3016 - mae: 31003.4696\n",
            "WARNING:tensorflow:Early stopping conditioned on metric `val_loss` which is not available. Available metrics are: loss,mae\n",
            "Epoch 44/100\n",
            "62/62 [==============================] - 0s 2ms/step - loss: 1991638844.9524 - mae: 31906.5005\n",
            "WARNING:tensorflow:Early stopping conditioned on metric `val_loss` which is not available. Available metrics are: loss,mae\n",
            "Epoch 45/100\n",
            "62/62 [==============================] - 0s 2ms/step - loss: 1804689970.7937 - mae: 29539.7726\n",
            "WARNING:tensorflow:Early stopping conditioned on metric `val_loss` which is not available. Available metrics are: loss,mae\n",
            "Epoch 46/100\n",
            "62/62 [==============================] - 0s 2ms/step - loss: 2000744724.3175 - mae: 30718.1031\n",
            "WARNING:tensorflow:Early stopping conditioned on metric `val_loss` which is not available. Available metrics are: loss,mae\n",
            "Epoch 47/100\n",
            "62/62 [==============================] - 0s 2ms/step - loss: 1820448188.9524 - mae: 29295.9445\n",
            "WARNING:tensorflow:Early stopping conditioned on metric `val_loss` which is not available. Available metrics are: loss,mae\n",
            "Epoch 48/100\n",
            "62/62 [==============================] - 0s 2ms/step - loss: 1948339610.4127 - mae: 31034.7998\n",
            "WARNING:tensorflow:Early stopping conditioned on metric `val_loss` which is not available. Available metrics are: loss,mae\n",
            "Epoch 49/100\n",
            "62/62 [==============================] - 0s 2ms/step - loss: 1851147253.8413 - mae: 29774.1975\n",
            "WARNING:tensorflow:Early stopping conditioned on metric `val_loss` which is not available. Available metrics are: loss,mae\n",
            "Epoch 50/100\n",
            "62/62 [==============================] - 0s 2ms/step - loss: 2037200558.7302 - mae: 30410.3157\n",
            "WARNING:tensorflow:Early stopping conditioned on metric `val_loss` which is not available. Available metrics are: loss,mae\n",
            "Epoch 51/100\n",
            "62/62 [==============================] - 0s 2ms/step - loss: 1965331945.6508 - mae: 30142.1594\n",
            "WARNING:tensorflow:Early stopping conditioned on metric `val_loss` which is not available. Available metrics are: loss,mae\n",
            "Epoch 52/100\n",
            "62/62 [==============================] - 0s 2ms/step - loss: 1711820343.8730 - mae: 29460.7487\n",
            "WARNING:tensorflow:Early stopping conditioned on metric `val_loss` which is not available. Available metrics are: loss,mae\n",
            "Epoch 53/100\n",
            "62/62 [==============================] - 0s 2ms/step - loss: 2005012553.1429 - mae: 30262.6496\n",
            "WARNING:tensorflow:Early stopping conditioned on metric `val_loss` which is not available. Available metrics are: loss,mae\n",
            "Epoch 54/100\n",
            "62/62 [==============================] - 0s 2ms/step - loss: 1744513596.9524 - mae: 30239.2200\n",
            "WARNING:tensorflow:Early stopping conditioned on metric `val_loss` which is not available. Available metrics are: loss,mae\n",
            "Epoch 55/100\n",
            "62/62 [==============================] - 0s 2ms/step - loss: 1902807432.1270 - mae: 30003.8126\n",
            "WARNING:tensorflow:Early stopping conditioned on metric `val_loss` which is not available. Available metrics are: loss,mae\n",
            "Epoch 56/100\n",
            "62/62 [==============================] - 0s 2ms/step - loss: 1689525812.8254 - mae: 29446.6574\n",
            "WARNING:tensorflow:Early stopping conditioned on metric `val_loss` which is not available. Available metrics are: loss,mae\n",
            "Epoch 57/100\n",
            "62/62 [==============================] - 0s 2ms/step - loss: 1915938084.5714 - mae: 30837.1013\n",
            "WARNING:tensorflow:Early stopping conditioned on metric `val_loss` which is not available. Available metrics are: loss,mae\n",
            "Epoch 58/100\n",
            "62/62 [==============================] - 0s 2ms/step - loss: 1928290780.4444 - mae: 29080.7954\n",
            "WARNING:tensorflow:Early stopping conditioned on metric `val_loss` which is not available. Available metrics are: loss,mae\n",
            "Epoch 59/100\n",
            "62/62 [==============================] - 0s 2ms/step - loss: 1846962281.6508 - mae: 30186.4931\n",
            "WARNING:tensorflow:Early stopping conditioned on metric `val_loss` which is not available. Available metrics are: loss,mae\n",
            "Epoch 60/100\n",
            "62/62 [==============================] - 0s 2ms/step - loss: 2028552523.1746 - mae: 30976.7675\n",
            "WARNING:tensorflow:Early stopping conditioned on metric `val_loss` which is not available. Available metrics are: loss,mae\n",
            "Epoch 61/100\n",
            "62/62 [==============================] - 0s 2ms/step - loss: 1567623100.9524 - mae: 28179.6629\n",
            "WARNING:tensorflow:Early stopping conditioned on metric `val_loss` which is not available. Available metrics are: loss,mae\n",
            "Epoch 62/100\n",
            "62/62 [==============================] - 0s 2ms/step - loss: 1920988202.6667 - mae: 28959.2525\n",
            "WARNING:tensorflow:Early stopping conditioned on metric `val_loss` which is not available. Available metrics are: loss,mae\n",
            "Epoch 63/100\n",
            "62/62 [==============================] - 0s 2ms/step - loss: 1632736418.5397 - mae: 29017.2513\n",
            "WARNING:tensorflow:Early stopping conditioned on metric `val_loss` which is not available. Available metrics are: loss,mae\n",
            "Epoch 64/100\n",
            "62/62 [==============================] - 0s 2ms/step - loss: 1815196688.2540 - mae: 30442.6099\n",
            "WARNING:tensorflow:Early stopping conditioned on metric `val_loss` which is not available. Available metrics are: loss,mae\n",
            "Epoch 65/100\n",
            "62/62 [==============================] - 0s 2ms/step - loss: 1762884992.0000 - mae: 29700.5277\n",
            "WARNING:tensorflow:Early stopping conditioned on metric `val_loss` which is not available. Available metrics are: loss,mae\n",
            "Epoch 66/100\n",
            "62/62 [==============================] - 0s 2ms/step - loss: 2112841602.0317 - mae: 29706.7399\n",
            "WARNING:tensorflow:Early stopping conditioned on metric `val_loss` which is not available. Available metrics are: loss,mae\n",
            "Epoch 67/100\n",
            "62/62 [==============================] - 0s 2ms/step - loss: 2030796088.8889 - mae: 29468.6260\n",
            "WARNING:tensorflow:Early stopping conditioned on metric `val_loss` which is not available. Available metrics are: loss,mae\n",
            "Epoch 68/100\n",
            "62/62 [==============================] - 0s 2ms/step - loss: 1963112966.0952 - mae: 30929.1010\n",
            "WARNING:tensorflow:Early stopping conditioned on metric `val_loss` which is not available. Available metrics are: loss,mae\n",
            "Epoch 69/100\n",
            "62/62 [==============================] - 0s 2ms/step - loss: 1577157562.9206 - mae: 28459.9560\n",
            "WARNING:tensorflow:Early stopping conditioned on metric `val_loss` which is not available. Available metrics are: loss,mae\n",
            "Epoch 70/100\n",
            "62/62 [==============================] - 0s 2ms/step - loss: 1863845829.0794 - mae: 29438.5171\n",
            "WARNING:tensorflow:Early stopping conditioned on metric `val_loss` which is not available. Available metrics are: loss,mae\n",
            "Epoch 71/100\n",
            "62/62 [==============================] - 0s 2ms/step - loss: 1975653319.1111 - mae: 29866.4375\n",
            "WARNING:tensorflow:Early stopping conditioned on metric `val_loss` which is not available. Available metrics are: loss,mae\n",
            "Epoch 72/100\n",
            "62/62 [==============================] - 0s 2ms/step - loss: 1726627972.0635 - mae: 29354.8309\n",
            "WARNING:tensorflow:Early stopping conditioned on metric `val_loss` which is not available. Available metrics are: loss,mae\n",
            "Epoch 73/100\n",
            "62/62 [==============================] - 0s 2ms/step - loss: 1616433893.5873 - mae: 28035.0430\n",
            "WARNING:tensorflow:Early stopping conditioned on metric `val_loss` which is not available. Available metrics are: loss,mae\n",
            "Epoch 74/100\n",
            "62/62 [==============================] - 0s 2ms/step - loss: 1768046868.3175 - mae: 28114.8319\n",
            "WARNING:tensorflow:Early stopping conditioned on metric `val_loss` which is not available. Available metrics are: loss,mae\n",
            "Epoch 75/100\n",
            "62/62 [==============================] - 0s 2ms/step - loss: 1955324028.9524 - mae: 29661.9198\n",
            "WARNING:tensorflow:Early stopping conditioned on metric `val_loss` which is not available. Available metrics are: loss,mae\n",
            "Epoch 76/100\n",
            "62/62 [==============================] - 0s 2ms/step - loss: 1684061819.9365 - mae: 29132.3024\n",
            "WARNING:tensorflow:Early stopping conditioned on metric `val_loss` which is not available. Available metrics are: loss,mae\n",
            "Epoch 77/100\n",
            "62/62 [==============================] - 0s 2ms/step - loss: 2162150666.1587 - mae: 32125.3070\n",
            "WARNING:tensorflow:Early stopping conditioned on metric `val_loss` which is not available. Available metrics are: loss,mae\n",
            "Epoch 78/100\n",
            "62/62 [==============================] - 0s 2ms/step - loss: 2014758741.3333 - mae: 31465.3746\n",
            "WARNING:tensorflow:Early stopping conditioned on metric `val_loss` which is not available. Available metrics are: loss,mae\n",
            "Epoch 79/100\n",
            "62/62 [==============================] - 0s 2ms/step - loss: 1804079205.5873 - mae: 29205.3687\n",
            "WARNING:tensorflow:Early stopping conditioned on metric `val_loss` which is not available. Available metrics are: loss,mae\n",
            "Epoch 80/100\n",
            "62/62 [==============================] - 0s 2ms/step - loss: 1570875503.7460 - mae: 27256.5221\n",
            "WARNING:tensorflow:Early stopping conditioned on metric `val_loss` which is not available. Available metrics are: loss,mae\n",
            "Epoch 81/100\n",
            "62/62 [==============================] - 0s 2ms/step - loss: 2207985763.5556 - mae: 30150.0136\n",
            "WARNING:tensorflow:Early stopping conditioned on metric `val_loss` which is not available. Available metrics are: loss,mae\n",
            "Epoch 82/100\n",
            "62/62 [==============================] - 0s 2ms/step - loss: 1666685203.3016 - mae: 28640.0599\n",
            "WARNING:tensorflow:Early stopping conditioned on metric `val_loss` which is not available. Available metrics are: loss,mae\n",
            "Epoch 83/100\n",
            "62/62 [==============================] - 0s 2ms/step - loss: 1927951467.6825 - mae: 29949.2940\n",
            "WARNING:tensorflow:Early stopping conditioned on metric `val_loss` which is not available. Available metrics are: loss,mae\n",
            "Epoch 84/100\n",
            "62/62 [==============================] - 0s 2ms/step - loss: 1719504696.8889 - mae: 27731.6290\n",
            "WARNING:tensorflow:Early stopping conditioned on metric `val_loss` which is not available. Available metrics are: loss,mae\n",
            "Epoch 85/100\n",
            "62/62 [==============================] - 0s 2ms/step - loss: 1818211547.4286 - mae: 30389.0097\n",
            "WARNING:tensorflow:Early stopping conditioned on metric `val_loss` which is not available. Available metrics are: loss,mae\n",
            "Epoch 86/100\n",
            "62/62 [==============================] - 0s 2ms/step - loss: 1804670453.8413 - mae: 29841.6474\n",
            "WARNING:tensorflow:Early stopping conditioned on metric `val_loss` which is not available. Available metrics are: loss,mae\n",
            "Epoch 87/100\n",
            "62/62 [==============================] - 0s 2ms/step - loss: 2038912908.1905 - mae: 30687.2100\n",
            "WARNING:tensorflow:Early stopping conditioned on metric `val_loss` which is not available. Available metrics are: loss,mae\n",
            "Epoch 88/100\n",
            "62/62 [==============================] - 0s 2ms/step - loss: 1528172056.3810 - mae: 26445.1640\n",
            "WARNING:tensorflow:Early stopping conditioned on metric `val_loss` which is not available. Available metrics are: loss,mae\n",
            "Epoch 89/100\n",
            "62/62 [==============================] - 0s 2ms/step - loss: 1726909141.3333 - mae: 27292.9847\n",
            "WARNING:tensorflow:Early stopping conditioned on metric `val_loss` which is not available. Available metrics are: loss,mae\n",
            "Epoch 90/100\n",
            "62/62 [==============================] - 0s 2ms/step - loss: 1720717750.8571 - mae: 28972.2009\n",
            "WARNING:tensorflow:Early stopping conditioned on metric `val_loss` which is not available. Available metrics are: loss,mae\n",
            "Epoch 91/100\n",
            "62/62 [==============================] - 0s 2ms/step - loss: 2513530678.8571 - mae: 32165.8680\n",
            "WARNING:tensorflow:Early stopping conditioned on metric `val_loss` which is not available. Available metrics are: loss,mae\n",
            "Epoch 92/100\n",
            "62/62 [==============================] - 0s 2ms/step - loss: 1612288517.0794 - mae: 27435.7078\n",
            "WARNING:tensorflow:Early stopping conditioned on metric `val_loss` which is not available. Available metrics are: loss,mae\n",
            "Epoch 93/100\n",
            "62/62 [==============================] - 0s 2ms/step - loss: 1921822340.0635 - mae: 29506.0512\n",
            "WARNING:tensorflow:Early stopping conditioned on metric `val_loss` which is not available. Available metrics are: loss,mae\n",
            "Epoch 94/100\n",
            "62/62 [==============================] - 0s 2ms/step - loss: 1739954119.1111 - mae: 27936.0466\n",
            "WARNING:tensorflow:Early stopping conditioned on metric `val_loss` which is not available. Available metrics are: loss,mae\n",
            "Epoch 95/100\n",
            "62/62 [==============================] - 0s 2ms/step - loss: 1658005953.0159 - mae: 28438.4758\n",
            "WARNING:tensorflow:Early stopping conditioned on metric `val_loss` which is not available. Available metrics are: loss,mae\n",
            "Epoch 96/100\n",
            "62/62 [==============================] - 0s 2ms/step - loss: 1495527032.8889 - mae: 26666.0570\n",
            "WARNING:tensorflow:Early stopping conditioned on metric `val_loss` which is not available. Available metrics are: loss,mae\n",
            "Epoch 97/100\n",
            "62/62 [==============================] - 0s 2ms/step - loss: 1621965647.2381 - mae: 28039.7230\n",
            "WARNING:tensorflow:Early stopping conditioned on metric `val_loss` which is not available. Available metrics are: loss,mae\n",
            "Epoch 98/100\n",
            "62/62 [==============================] - 0s 2ms/step - loss: 1789943216.7619 - mae: 29112.5632\n",
            "WARNING:tensorflow:Early stopping conditioned on metric `val_loss` which is not available. Available metrics are: loss,mae\n",
            "Epoch 99/100\n",
            "62/62 [==============================] - 0s 2ms/step - loss: 1752870306.5397 - mae: 28233.9412\n",
            "WARNING:tensorflow:Early stopping conditioned on metric `val_loss` which is not available. Available metrics are: loss,mae\n",
            "Epoch 100/100\n",
            "62/62 [==============================] - 0s 2ms/step - loss: 1874697957.5873 - mae: 29688.0800\n",
            "WARNING:tensorflow:Early stopping conditioned on metric `val_loss` which is not available. Available metrics are: loss,mae\n"
          ],
          "name": "stdout"
        },
        {
          "output_type": "execute_result",
          "data": {
            "text/plain": [
              "<tensorflow.python.keras.callbacks.History at 0x7f4c620ecb00>"
            ]
          },
          "metadata": {
            "tags": []
          },
          "execution_count": 98
        }
      ]
    },
    {
      "cell_type": "markdown",
      "metadata": {
        "id": "ps4kgbbvUrJm"
      },
      "source": [
        "Create a randomised grid search to find best hyperparameters"
      ]
    },
    {
      "cell_type": "code",
      "metadata": {
        "id": "W58Kr8jRPA_H"
      },
      "source": [
        "from sklearn.model_selection import RandomizedSearchCV\n",
        "from keras.wrappers.scikit_learn import KerasRegressor\n",
        "from sklearn.metrics import make_scorer\n",
        "from sklearn.metrics import mean_squared_error"
      ],
      "execution_count": 90,
      "outputs": []
    },
    {
      "cell_type": "code",
      "metadata": {
        "id": "7S1iputaQ31b"
      },
      "source": [
        "def do_randomised_search():\n",
        "  param_grid = {'batch_size': sp_randint(2, 16), 'nb_epoch': sp_randint(50, 200)}\n",
        "  model = KerasRegressor(build_fn=design_model)\n",
        "  grid = RandomizedSearchCV(estimator = model, param_distributions=param_grid, scoring = make_scorer(mean_squared_error, greater_is_better=False), n_iter = 12)\n",
        "  grid_result = grid.fit(features_train, labels_train, verbose = 0)\n",
        "  print(grid_result)\n",
        "  print(\"Best: %f using %s\" % (grid_result.best_score_, grid_result.best_params_))\n",
        "\n",
        "  means = grid_result.cv_results_['mean_test_score']\n",
        "  stds = grid_result.cv_results_['std_test_score']\n",
        "  params = grid_result.cv_results_['params']\n",
        "  for mean, stdev, param in zip(means, stds, params):\n",
        "      print(\"%f (%f) with: %r\" % (mean, stdev, param))"
      ],
      "execution_count": 91,
      "outputs": []
    },
    {
      "cell_type": "code",
      "metadata": {
        "colab": {
          "base_uri": "https://localhost:8080/"
        },
        "id": "YyYqGyO2RCe8",
        "outputId": "55df9d08-89e5-4d06-d210-e0aaf9592163"
      },
      "source": [
        "do_randomised_search()"
      ],
      "execution_count": 92,
      "outputs": [
        {
          "output_type": "stream",
          "text": [
            "RandomizedSearchCV(cv=None, error_score=nan,\n",
            "                   estimator=<tensorflow.python.keras.wrappers.scikit_learn.KerasRegressor object at 0x7f4c620c4ba8>,\n",
            "                   iid='deprecated', n_iter=12, n_jobs=None,\n",
            "                   param_distributions={'batch_size': <scipy.stats._distn_infrastructure.rv_frozen object at 0x7f4c620c4668>,\n",
            "                                        'nb_epoch': <scipy.stats._distn_infrastructure.rv_frozen object at 0x7f4c620c4a58>},\n",
            "                   pre_dispatch='2*n_jobs', random_state=None, refit=True,\n",
            "                   return_train_score=False,\n",
            "                   scoring=make_scorer(mean_squared_error, greater_is_better=False),\n",
            "                   verbose=0)\n",
            "Best: -2808547779.845933 using {'batch_size': 2, 'nb_epoch': 177}\n",
            "-3694215315.203906 (742055633.552070) with: {'batch_size': 11, 'nb_epoch': 50}\n",
            "-2808547779.845933 (692030200.476643) with: {'batch_size': 2, 'nb_epoch': 177}\n",
            "-4941267967.688120 (1944673306.358951) with: {'batch_size': 14, 'nb_epoch': 145}\n",
            "-3943479141.567014 (1061251850.172336) with: {'batch_size': 7, 'nb_epoch': 145}\n",
            "-3800278650.665811 (1182995051.093448) with: {'batch_size': 9, 'nb_epoch': 86}\n",
            "-3991380208.132390 (915295554.628873) with: {'batch_size': 10, 'nb_epoch': 75}\n",
            "-4178847857.331199 (404888540.833611) with: {'batch_size': 11, 'nb_epoch': 106}\n",
            "-4121225887.100098 (1768209359.485442) with: {'batch_size': 4, 'nb_epoch': 101}\n",
            "-3786849874.181941 (992078315.583690) with: {'batch_size': 7, 'nb_epoch': 129}\n",
            "-4259434260.537151 (1071643519.378329) with: {'batch_size': 9, 'nb_epoch': 163}\n",
            "-5146431563.861382 (1559146240.258661) with: {'batch_size': 15, 'nb_epoch': 185}\n",
            "-2961593865.673009 (555784935.644626) with: {'batch_size': 2, 'nb_epoch': 154}\n"
          ],
          "name": "stdout"
        }
      ]
    },
    {
      "cell_type": "markdown",
      "metadata": {
        "id": "JF7gnrypUy4v"
      },
      "source": [
        "Best batch size: 2, best number of epochs: 177."
      ]
    },
    {
      "cell_type": "code",
      "metadata": {
        "colab": {
          "base_uri": "https://localhost:8080/"
        },
        "id": "3Kla8UQNR9C0",
        "outputId": "d8d6799b-fbc3-495c-ff60-c5ca33f81220"
      },
      "source": [
        "model.fit(features_train_norm, labels_train, epochs=177, batch_size=2, callbacks=[es])"
      ],
      "execution_count": 99,
      "outputs": [
        {
          "output_type": "stream",
          "text": [
            "Epoch 1/177\n",
            "489/489 [==============================] - 1s 2ms/step - loss: 2011353728.0000 - mae: 31303.0000\n",
            "WARNING:tensorflow:Early stopping conditioned on metric `val_loss` which is not available. Available metrics are: loss,mae\n",
            "Epoch 2/177\n",
            "489/489 [==============================] - 1s 2ms/step - loss: 1968501888.0000 - mae: 30215.8691\n",
            "WARNING:tensorflow:Early stopping conditioned on metric `val_loss` which is not available. Available metrics are: loss,mae\n",
            "Epoch 3/177\n",
            "489/489 [==============================] - 1s 2ms/step - loss: 1910424064.0000 - mae: 29861.5332\n",
            "WARNING:tensorflow:Early stopping conditioned on metric `val_loss` which is not available. Available metrics are: loss,mae\n",
            "Epoch 4/177\n",
            "489/489 [==============================] - 1s 2ms/step - loss: 1916350464.0000 - mae: 30251.4902\n",
            "WARNING:tensorflow:Early stopping conditioned on metric `val_loss` which is not available. Available metrics are: loss,mae\n",
            "Epoch 5/177\n",
            "489/489 [==============================] - 1s 2ms/step - loss: 1789791488.0000 - mae: 29444.8418\n",
            "WARNING:tensorflow:Early stopping conditioned on metric `val_loss` which is not available. Available metrics are: loss,mae\n",
            "Epoch 6/177\n",
            "489/489 [==============================] - 1s 2ms/step - loss: 1906109824.0000 - mae: 29562.1797\n",
            "WARNING:tensorflow:Early stopping conditioned on metric `val_loss` which is not available. Available metrics are: loss,mae\n",
            "Epoch 7/177\n",
            "489/489 [==============================] - 1s 2ms/step - loss: 1808710400.0000 - mae: 28426.5215\n",
            "WARNING:tensorflow:Early stopping conditioned on metric `val_loss` which is not available. Available metrics are: loss,mae\n",
            "Epoch 8/177\n",
            "489/489 [==============================] - 1s 2ms/step - loss: 1777739392.0000 - mae: 29168.7520\n",
            "WARNING:tensorflow:Early stopping conditioned on metric `val_loss` which is not available. Available metrics are: loss,mae\n",
            "Epoch 9/177\n",
            "489/489 [==============================] - 1s 2ms/step - loss: 1934323968.0000 - mae: 30523.7480\n",
            "WARNING:tensorflow:Early stopping conditioned on metric `val_loss` which is not available. Available metrics are: loss,mae\n",
            "Epoch 10/177\n",
            "489/489 [==============================] - 1s 2ms/step - loss: 1658571392.0000 - mae: 28585.1113\n",
            "WARNING:tensorflow:Early stopping conditioned on metric `val_loss` which is not available. Available metrics are: loss,mae\n",
            "Epoch 11/177\n",
            "489/489 [==============================] - 1s 2ms/step - loss: 1767890944.0000 - mae: 28648.5469\n",
            "WARNING:tensorflow:Early stopping conditioned on metric `val_loss` which is not available. Available metrics are: loss,mae\n",
            "Epoch 12/177\n",
            "489/489 [==============================] - 1s 2ms/step - loss: 1907762048.0000 - mae: 29988.8867\n",
            "WARNING:tensorflow:Early stopping conditioned on metric `val_loss` which is not available. Available metrics are: loss,mae\n",
            "Epoch 13/177\n",
            "489/489 [==============================] - 1s 2ms/step - loss: 1808264192.0000 - mae: 28979.6660\n",
            "WARNING:tensorflow:Early stopping conditioned on metric `val_loss` which is not available. Available metrics are: loss,mae\n",
            "Epoch 14/177\n",
            "489/489 [==============================] - 1s 2ms/step - loss: 1758824960.0000 - mae: 28905.8809\n",
            "WARNING:tensorflow:Early stopping conditioned on metric `val_loss` which is not available. Available metrics are: loss,mae\n",
            "Epoch 15/177\n",
            "489/489 [==============================] - 1s 2ms/step - loss: 1841597056.0000 - mae: 29136.8125\n",
            "WARNING:tensorflow:Early stopping conditioned on metric `val_loss` which is not available. Available metrics are: loss,mae\n",
            "Epoch 16/177\n",
            "489/489 [==============================] - 1s 2ms/step - loss: 1809288704.0000 - mae: 29261.5547\n",
            "WARNING:tensorflow:Early stopping conditioned on metric `val_loss` which is not available. Available metrics are: loss,mae\n",
            "Epoch 17/177\n",
            "489/489 [==============================] - 1s 2ms/step - loss: 1847626880.0000 - mae: 29244.8320\n",
            "WARNING:tensorflow:Early stopping conditioned on metric `val_loss` which is not available. Available metrics are: loss,mae\n",
            "Epoch 18/177\n",
            "489/489 [==============================] - 1s 2ms/step - loss: 1613616256.0000 - mae: 28428.3555\n",
            "WARNING:tensorflow:Early stopping conditioned on metric `val_loss` which is not available. Available metrics are: loss,mae\n",
            "Epoch 19/177\n",
            "489/489 [==============================] - 1s 2ms/step - loss: 1828183168.0000 - mae: 29581.8379\n",
            "WARNING:tensorflow:Early stopping conditioned on metric `val_loss` which is not available. Available metrics are: loss,mae\n",
            "Epoch 20/177\n",
            "489/489 [==============================] - 1s 2ms/step - loss: 1732254464.0000 - mae: 28715.3711\n",
            "WARNING:tensorflow:Early stopping conditioned on metric `val_loss` which is not available. Available metrics are: loss,mae\n",
            "Epoch 21/177\n",
            "489/489 [==============================] - 1s 2ms/step - loss: 1655426944.0000 - mae: 27919.6855\n",
            "WARNING:tensorflow:Early stopping conditioned on metric `val_loss` which is not available. Available metrics are: loss,mae\n",
            "Epoch 22/177\n",
            "489/489 [==============================] - 1s 2ms/step - loss: 1760862976.0000 - mae: 28643.9375\n",
            "WARNING:tensorflow:Early stopping conditioned on metric `val_loss` which is not available. Available metrics are: loss,mae\n",
            "Epoch 23/177\n",
            "489/489 [==============================] - 1s 2ms/step - loss: 1706322048.0000 - mae: 28138.1191\n",
            "WARNING:tensorflow:Early stopping conditioned on metric `val_loss` which is not available. Available metrics are: loss,mae\n",
            "Epoch 24/177\n",
            "489/489 [==============================] - 1s 2ms/step - loss: 1610113152.0000 - mae: 27719.0566\n",
            "WARNING:tensorflow:Early stopping conditioned on metric `val_loss` which is not available. Available metrics are: loss,mae\n",
            "Epoch 25/177\n",
            "489/489 [==============================] - 1s 2ms/step - loss: 1823393536.0000 - mae: 29415.2363\n",
            "WARNING:tensorflow:Early stopping conditioned on metric `val_loss` which is not available. Available metrics are: loss,mae\n",
            "Epoch 26/177\n",
            "489/489 [==============================] - 1s 2ms/step - loss: 1706989696.0000 - mae: 28863.2305\n",
            "WARNING:tensorflow:Early stopping conditioned on metric `val_loss` which is not available. Available metrics are: loss,mae\n",
            "Epoch 27/177\n",
            "489/489 [==============================] - 1s 2ms/step - loss: 1764986752.0000 - mae: 28242.4395\n",
            "WARNING:tensorflow:Early stopping conditioned on metric `val_loss` which is not available. Available metrics are: loss,mae\n",
            "Epoch 28/177\n",
            "489/489 [==============================] - 1s 2ms/step - loss: 1762153088.0000 - mae: 28482.7559\n",
            "WARNING:tensorflow:Early stopping conditioned on metric `val_loss` which is not available. Available metrics are: loss,mae\n",
            "Epoch 29/177\n",
            "489/489 [==============================] - 1s 2ms/step - loss: 1650242048.0000 - mae: 27767.8105\n",
            "WARNING:tensorflow:Early stopping conditioned on metric `val_loss` which is not available. Available metrics are: loss,mae\n",
            "Epoch 30/177\n",
            "489/489 [==============================] - 1s 2ms/step - loss: 1709391232.0000 - mae: 27799.8613\n",
            "WARNING:tensorflow:Early stopping conditioned on metric `val_loss` which is not available. Available metrics are: loss,mae\n",
            "Epoch 31/177\n",
            "489/489 [==============================] - 1s 2ms/step - loss: 1851426560.0000 - mae: 29320.9336\n",
            "WARNING:tensorflow:Early stopping conditioned on metric `val_loss` which is not available. Available metrics are: loss,mae\n",
            "Epoch 32/177\n",
            "489/489 [==============================] - 1s 2ms/step - loss: 1756431488.0000 - mae: 28268.3926\n",
            "WARNING:tensorflow:Early stopping conditioned on metric `val_loss` which is not available. Available metrics are: loss,mae\n",
            "Epoch 33/177\n",
            "489/489 [==============================] - 1s 2ms/step - loss: 1658504320.0000 - mae: 27887.5059\n",
            "WARNING:tensorflow:Early stopping conditioned on metric `val_loss` which is not available. Available metrics are: loss,mae\n",
            "Epoch 34/177\n",
            "489/489 [==============================] - 1s 2ms/step - loss: 1728720896.0000 - mae: 28259.7480\n",
            "WARNING:tensorflow:Early stopping conditioned on metric `val_loss` which is not available. Available metrics are: loss,mae\n",
            "Epoch 35/177\n",
            "489/489 [==============================] - 1s 2ms/step - loss: 1776455552.0000 - mae: 28796.7988\n",
            "WARNING:tensorflow:Early stopping conditioned on metric `val_loss` which is not available. Available metrics are: loss,mae\n",
            "Epoch 36/177\n",
            "489/489 [==============================] - 1s 2ms/step - loss: 1724695936.0000 - mae: 28669.7988\n",
            "WARNING:tensorflow:Early stopping conditioned on metric `val_loss` which is not available. Available metrics are: loss,mae\n",
            "Epoch 37/177\n",
            "489/489 [==============================] - 1s 2ms/step - loss: 1654126976.0000 - mae: 27449.5332\n",
            "WARNING:tensorflow:Early stopping conditioned on metric `val_loss` which is not available. Available metrics are: loss,mae\n",
            "Epoch 38/177\n",
            "489/489 [==============================] - 1s 2ms/step - loss: 1795040896.0000 - mae: 28663.8789\n",
            "WARNING:tensorflow:Early stopping conditioned on metric `val_loss` which is not available. Available metrics are: loss,mae\n",
            "Epoch 39/177\n",
            "489/489 [==============================] - 1s 2ms/step - loss: 1694013824.0000 - mae: 28147.7285\n",
            "WARNING:tensorflow:Early stopping conditioned on metric `val_loss` which is not available. Available metrics are: loss,mae\n",
            "Epoch 40/177\n",
            "489/489 [==============================] - 1s 2ms/step - loss: 1646880256.0000 - mae: 27872.2910\n",
            "WARNING:tensorflow:Early stopping conditioned on metric `val_loss` which is not available. Available metrics are: loss,mae\n",
            "Epoch 41/177\n",
            "489/489 [==============================] - 1s 2ms/step - loss: 1565357696.0000 - mae: 28095.7891\n",
            "WARNING:tensorflow:Early stopping conditioned on metric `val_loss` which is not available. Available metrics are: loss,mae\n",
            "Epoch 42/177\n",
            "489/489 [==============================] - 1s 2ms/step - loss: 1537991296.0000 - mae: 27799.4688\n",
            "WARNING:tensorflow:Early stopping conditioned on metric `val_loss` which is not available. Available metrics are: loss,mae\n",
            "Epoch 43/177\n",
            "489/489 [==============================] - 1s 2ms/step - loss: 1641109120.0000 - mae: 27614.0859\n",
            "WARNING:tensorflow:Early stopping conditioned on metric `val_loss` which is not available. Available metrics are: loss,mae\n",
            "Epoch 44/177\n",
            "489/489 [==============================] - 1s 2ms/step - loss: 1612668416.0000 - mae: 27374.3496\n",
            "WARNING:tensorflow:Early stopping conditioned on metric `val_loss` which is not available. Available metrics are: loss,mae\n",
            "Epoch 45/177\n",
            "489/489 [==============================] - 1s 2ms/step - loss: 1715926400.0000 - mae: 28114.6445\n",
            "WARNING:tensorflow:Early stopping conditioned on metric `val_loss` which is not available. Available metrics are: loss,mae\n",
            "Epoch 46/177\n",
            "489/489 [==============================] - 1s 2ms/step - loss: 1606201216.0000 - mae: 27694.5098\n",
            "WARNING:tensorflow:Early stopping conditioned on metric `val_loss` which is not available. Available metrics are: loss,mae\n",
            "Epoch 47/177\n",
            "489/489 [==============================] - 1s 2ms/step - loss: 1623316352.0000 - mae: 27107.8418\n",
            "WARNING:tensorflow:Early stopping conditioned on metric `val_loss` which is not available. Available metrics are: loss,mae\n",
            "Epoch 48/177\n",
            "489/489 [==============================] - 1s 2ms/step - loss: 1613746560.0000 - mae: 27026.0879\n",
            "WARNING:tensorflow:Early stopping conditioned on metric `val_loss` which is not available. Available metrics are: loss,mae\n",
            "Epoch 49/177\n",
            "489/489 [==============================] - 1s 2ms/step - loss: 1506074112.0000 - mae: 27052.9590\n",
            "WARNING:tensorflow:Early stopping conditioned on metric `val_loss` which is not available. Available metrics are: loss,mae\n",
            "Epoch 50/177\n",
            "489/489 [==============================] - 1s 2ms/step - loss: 1607541760.0000 - mae: 26938.7441\n",
            "WARNING:tensorflow:Early stopping conditioned on metric `val_loss` which is not available. Available metrics are: loss,mae\n",
            "Epoch 51/177\n",
            "489/489 [==============================] - 1s 2ms/step - loss: 1705235584.0000 - mae: 27454.3359\n",
            "WARNING:tensorflow:Early stopping conditioned on metric `val_loss` which is not available. Available metrics are: loss,mae\n",
            "Epoch 52/177\n",
            "489/489 [==============================] - 1s 2ms/step - loss: 1588059904.0000 - mae: 27410.7285\n",
            "WARNING:tensorflow:Early stopping conditioned on metric `val_loss` which is not available. Available metrics are: loss,mae\n",
            "Epoch 53/177\n",
            "489/489 [==============================] - 1s 2ms/step - loss: 1505191168.0000 - mae: 26819.8965\n",
            "WARNING:tensorflow:Early stopping conditioned on metric `val_loss` which is not available. Available metrics are: loss,mae\n",
            "Epoch 54/177\n",
            "489/489 [==============================] - 1s 2ms/step - loss: 1571775744.0000 - mae: 27262.4473\n",
            "WARNING:tensorflow:Early stopping conditioned on metric `val_loss` which is not available. Available metrics are: loss,mae\n",
            "Epoch 55/177\n",
            "489/489 [==============================] - 1s 2ms/step - loss: 1548094336.0000 - mae: 27099.6172\n",
            "WARNING:tensorflow:Early stopping conditioned on metric `val_loss` which is not available. Available metrics are: loss,mae\n",
            "Epoch 56/177\n",
            "489/489 [==============================] - 1s 2ms/step - loss: 1649068544.0000 - mae: 27376.7832\n",
            "WARNING:tensorflow:Early stopping conditioned on metric `val_loss` which is not available. Available metrics are: loss,mae\n",
            "Epoch 57/177\n",
            "489/489 [==============================] - 1s 2ms/step - loss: 1652507136.0000 - mae: 27750.1738\n",
            "WARNING:tensorflow:Early stopping conditioned on metric `val_loss` which is not available. Available metrics are: loss,mae\n",
            "Epoch 58/177\n",
            "489/489 [==============================] - 1s 2ms/step - loss: 1596620288.0000 - mae: 26475.1543\n",
            "WARNING:tensorflow:Early stopping conditioned on metric `val_loss` which is not available. Available metrics are: loss,mae\n",
            "Epoch 59/177\n",
            "489/489 [==============================] - 1s 2ms/step - loss: 1539614976.0000 - mae: 27162.6992\n",
            "WARNING:tensorflow:Early stopping conditioned on metric `val_loss` which is not available. Available metrics are: loss,mae\n",
            "Epoch 60/177\n",
            "489/489 [==============================] - 1s 2ms/step - loss: 1647451776.0000 - mae: 27719.5254\n",
            "WARNING:tensorflow:Early stopping conditioned on metric `val_loss` which is not available. Available metrics are: loss,mae\n",
            "Epoch 61/177\n",
            "489/489 [==============================] - 1s 2ms/step - loss: 1487456512.0000 - mae: 25949.4160\n",
            "WARNING:tensorflow:Early stopping conditioned on metric `val_loss` which is not available. Available metrics are: loss,mae\n",
            "Epoch 62/177\n",
            "489/489 [==============================] - 1s 2ms/step - loss: 1613951872.0000 - mae: 27248.4375\n",
            "WARNING:tensorflow:Early stopping conditioned on metric `val_loss` which is not available. Available metrics are: loss,mae\n",
            "Epoch 63/177\n",
            "489/489 [==============================] - 1s 2ms/step - loss: 1649892096.0000 - mae: 27501.7344\n",
            "WARNING:tensorflow:Early stopping conditioned on metric `val_loss` which is not available. Available metrics are: loss,mae\n",
            "Epoch 64/177\n",
            "489/489 [==============================] - 1s 2ms/step - loss: 1457707008.0000 - mae: 26068.2520\n",
            "WARNING:tensorflow:Early stopping conditioned on metric `val_loss` which is not available. Available metrics are: loss,mae\n",
            "Epoch 65/177\n",
            "489/489 [==============================] - 1s 2ms/step - loss: 1644270464.0000 - mae: 26833.9746\n",
            "WARNING:tensorflow:Early stopping conditioned on metric `val_loss` which is not available. Available metrics are: loss,mae\n",
            "Epoch 66/177\n",
            "489/489 [==============================] - 1s 2ms/step - loss: 1618934016.0000 - mae: 27278.8066\n",
            "WARNING:tensorflow:Early stopping conditioned on metric `val_loss` which is not available. Available metrics are: loss,mae\n",
            "Epoch 67/177\n",
            "489/489 [==============================] - 1s 2ms/step - loss: 1558369920.0000 - mae: 27300.2246\n",
            "WARNING:tensorflow:Early stopping conditioned on metric `val_loss` which is not available. Available metrics are: loss,mae\n",
            "Epoch 68/177\n",
            "489/489 [==============================] - 1s 2ms/step - loss: 1537699712.0000 - mae: 26427.6348\n",
            "WARNING:tensorflow:Early stopping conditioned on metric `val_loss` which is not available. Available metrics are: loss,mae\n",
            "Epoch 69/177\n",
            "489/489 [==============================] - 1s 2ms/step - loss: 1608913152.0000 - mae: 26539.9941\n",
            "WARNING:tensorflow:Early stopping conditioned on metric `val_loss` which is not available. Available metrics are: loss,mae\n",
            "Epoch 70/177\n",
            "489/489 [==============================] - 1s 2ms/step - loss: 1479264384.0000 - mae: 25665.0625\n",
            "WARNING:tensorflow:Early stopping conditioned on metric `val_loss` which is not available. Available metrics are: loss,mae\n",
            "Epoch 71/177\n",
            "489/489 [==============================] - 1s 2ms/step - loss: 1427946368.0000 - mae: 25507.3164\n",
            "WARNING:tensorflow:Early stopping conditioned on metric `val_loss` which is not available. Available metrics are: loss,mae\n",
            "Epoch 72/177\n",
            "489/489 [==============================] - 1s 2ms/step - loss: 1556283904.0000 - mae: 26727.3418\n",
            "WARNING:tensorflow:Early stopping conditioned on metric `val_loss` which is not available. Available metrics are: loss,mae\n",
            "Epoch 73/177\n",
            "489/489 [==============================] - 1s 2ms/step - loss: 1447504256.0000 - mae: 25957.2773\n",
            "WARNING:tensorflow:Early stopping conditioned on metric `val_loss` which is not available. Available metrics are: loss,mae\n",
            "Epoch 74/177\n",
            "489/489 [==============================] - 1s 2ms/step - loss: 1532819200.0000 - mae: 27065.0547\n",
            "WARNING:tensorflow:Early stopping conditioned on metric `val_loss` which is not available. Available metrics are: loss,mae\n",
            "Epoch 75/177\n",
            "489/489 [==============================] - 1s 2ms/step - loss: 1486289408.0000 - mae: 24894.9453\n",
            "WARNING:tensorflow:Early stopping conditioned on metric `val_loss` which is not available. Available metrics are: loss,mae\n",
            "Epoch 76/177\n",
            "489/489 [==============================] - 1s 2ms/step - loss: 1353270784.0000 - mae: 25704.2676\n",
            "WARNING:tensorflow:Early stopping conditioned on metric `val_loss` which is not available. Available metrics are: loss,mae\n",
            "Epoch 77/177\n",
            "489/489 [==============================] - 1s 2ms/step - loss: 1574511744.0000 - mae: 26840.0664\n",
            "WARNING:tensorflow:Early stopping conditioned on metric `val_loss` which is not available. Available metrics are: loss,mae\n",
            "Epoch 78/177\n",
            "489/489 [==============================] - 1s 2ms/step - loss: 1480892160.0000 - mae: 25958.7383\n",
            "WARNING:tensorflow:Early stopping conditioned on metric `val_loss` which is not available. Available metrics are: loss,mae\n",
            "Epoch 79/177\n",
            "489/489 [==============================] - 1s 2ms/step - loss: 1488500224.0000 - mae: 25383.2695\n",
            "WARNING:tensorflow:Early stopping conditioned on metric `val_loss` which is not available. Available metrics are: loss,mae\n",
            "Epoch 80/177\n",
            "489/489 [==============================] - 1s 2ms/step - loss: 1503378944.0000 - mae: 25762.5020\n",
            "WARNING:tensorflow:Early stopping conditioned on metric `val_loss` which is not available. Available metrics are: loss,mae\n",
            "Epoch 81/177\n",
            "489/489 [==============================] - 1s 2ms/step - loss: 1508348416.0000 - mae: 26216.0137\n",
            "WARNING:tensorflow:Early stopping conditioned on metric `val_loss` which is not available. Available metrics are: loss,mae\n",
            "Epoch 82/177\n",
            "489/489 [==============================] - 1s 2ms/step - loss: 1485413504.0000 - mae: 26161.5156\n",
            "WARNING:tensorflow:Early stopping conditioned on metric `val_loss` which is not available. Available metrics are: loss,mae\n",
            "Epoch 83/177\n",
            "489/489 [==============================] - 1s 2ms/step - loss: 1436097024.0000 - mae: 25295.0781\n",
            "WARNING:tensorflow:Early stopping conditioned on metric `val_loss` which is not available. Available metrics are: loss,mae\n",
            "Epoch 84/177\n",
            "489/489 [==============================] - 1s 2ms/step - loss: 1321297920.0000 - mae: 25202.6484\n",
            "WARNING:tensorflow:Early stopping conditioned on metric `val_loss` which is not available. Available metrics are: loss,mae\n",
            "Epoch 85/177\n",
            "489/489 [==============================] - 1s 2ms/step - loss: 1416466432.0000 - mae: 25092.9160\n",
            "WARNING:tensorflow:Early stopping conditioned on metric `val_loss` which is not available. Available metrics are: loss,mae\n",
            "Epoch 86/177\n",
            "489/489 [==============================] - 1s 2ms/step - loss: 1420247168.0000 - mae: 25689.2402\n",
            "WARNING:tensorflow:Early stopping conditioned on metric `val_loss` which is not available. Available metrics are: loss,mae\n",
            "Epoch 87/177\n",
            "489/489 [==============================] - 1s 2ms/step - loss: 1500714880.0000 - mae: 26116.5215\n",
            "WARNING:tensorflow:Early stopping conditioned on metric `val_loss` which is not available. Available metrics are: loss,mae\n",
            "Epoch 88/177\n",
            "489/489 [==============================] - 1s 2ms/step - loss: 1188918144.0000 - mae: 24381.2695\n",
            "WARNING:tensorflow:Early stopping conditioned on metric `val_loss` which is not available. Available metrics are: loss,mae\n",
            "Epoch 89/177\n",
            "489/489 [==============================] - 1s 2ms/step - loss: 1422959360.0000 - mae: 25085.3555\n",
            "WARNING:tensorflow:Early stopping conditioned on metric `val_loss` which is not available. Available metrics are: loss,mae\n",
            "Epoch 90/177\n",
            "489/489 [==============================] - 1s 2ms/step - loss: 1354488320.0000 - mae: 24783.0234\n",
            "WARNING:tensorflow:Early stopping conditioned on metric `val_loss` which is not available. Available metrics are: loss,mae\n",
            "Epoch 91/177\n",
            "489/489 [==============================] - 1s 2ms/step - loss: 1446659968.0000 - mae: 25621.7871\n",
            "WARNING:tensorflow:Early stopping conditioned on metric `val_loss` which is not available. Available metrics are: loss,mae\n",
            "Epoch 92/177\n",
            "489/489 [==============================] - 1s 2ms/step - loss: 1372261120.0000 - mae: 25085.2266\n",
            "WARNING:tensorflow:Early stopping conditioned on metric `val_loss` which is not available. Available metrics are: loss,mae\n",
            "Epoch 93/177\n",
            "489/489 [==============================] - 1s 2ms/step - loss: 1498560512.0000 - mae: 25424.8828\n",
            "WARNING:tensorflow:Early stopping conditioned on metric `val_loss` which is not available. Available metrics are: loss,mae\n",
            "Epoch 94/177\n",
            "489/489 [==============================] - 1s 2ms/step - loss: 1509172352.0000 - mae: 25432.1699\n",
            "WARNING:tensorflow:Early stopping conditioned on metric `val_loss` which is not available. Available metrics are: loss,mae\n",
            "Epoch 95/177\n",
            "489/489 [==============================] - 1s 2ms/step - loss: 1394783616.0000 - mae: 24247.6621\n",
            "WARNING:tensorflow:Early stopping conditioned on metric `val_loss` which is not available. Available metrics are: loss,mae\n",
            "Epoch 96/177\n",
            "489/489 [==============================] - 1s 2ms/step - loss: 1268919808.0000 - mae: 24139.8125\n",
            "WARNING:tensorflow:Early stopping conditioned on metric `val_loss` which is not available. Available metrics are: loss,mae\n",
            "Epoch 97/177\n",
            "489/489 [==============================] - 1s 2ms/step - loss: 1353031680.0000 - mae: 25037.4160\n",
            "WARNING:tensorflow:Early stopping conditioned on metric `val_loss` which is not available. Available metrics are: loss,mae\n",
            "Epoch 98/177\n",
            "489/489 [==============================] - 1s 2ms/step - loss: 1332410496.0000 - mae: 24883.1016\n",
            "WARNING:tensorflow:Early stopping conditioned on metric `val_loss` which is not available. Available metrics are: loss,mae\n",
            "Epoch 99/177\n",
            "489/489 [==============================] - 1s 2ms/step - loss: 1413807616.0000 - mae: 24993.6250\n",
            "WARNING:tensorflow:Early stopping conditioned on metric `val_loss` which is not available. Available metrics are: loss,mae\n",
            "Epoch 100/177\n",
            "489/489 [==============================] - 1s 2ms/step - loss: 1313960320.0000 - mae: 24563.2988\n",
            "WARNING:tensorflow:Early stopping conditioned on metric `val_loss` which is not available. Available metrics are: loss,mae\n",
            "Epoch 101/177\n",
            "489/489 [==============================] - 1s 2ms/step - loss: 1287665536.0000 - mae: 24482.2949\n",
            "WARNING:tensorflow:Early stopping conditioned on metric `val_loss` which is not available. Available metrics are: loss,mae\n",
            "Epoch 102/177\n",
            "489/489 [==============================] - 1s 2ms/step - loss: 1532177408.0000 - mae: 26707.2891\n",
            "WARNING:tensorflow:Early stopping conditioned on metric `val_loss` which is not available. Available metrics are: loss,mae\n",
            "Epoch 103/177\n",
            "489/489 [==============================] - 1s 2ms/step - loss: 1478911360.0000 - mae: 25138.4043\n",
            "WARNING:tensorflow:Early stopping conditioned on metric `val_loss` which is not available. Available metrics are: loss,mae\n",
            "Epoch 104/177\n",
            "489/489 [==============================] - 1s 2ms/step - loss: 1329890048.0000 - mae: 25180.6758\n",
            "WARNING:tensorflow:Early stopping conditioned on metric `val_loss` which is not available. Available metrics are: loss,mae\n",
            "Epoch 105/177\n",
            "489/489 [==============================] - 1s 2ms/step - loss: 1427953536.0000 - mae: 25475.2734\n",
            "WARNING:tensorflow:Early stopping conditioned on metric `val_loss` which is not available. Available metrics are: loss,mae\n",
            "Epoch 106/177\n",
            "489/489 [==============================] - 1s 2ms/step - loss: 1330841728.0000 - mae: 24626.6621\n",
            "WARNING:tensorflow:Early stopping conditioned on metric `val_loss` which is not available. Available metrics are: loss,mae\n",
            "Epoch 107/177\n",
            "489/489 [==============================] - 1s 2ms/step - loss: 1403090816.0000 - mae: 25434.0840\n",
            "WARNING:tensorflow:Early stopping conditioned on metric `val_loss` which is not available. Available metrics are: loss,mae\n",
            "Epoch 108/177\n",
            "489/489 [==============================] - 1s 2ms/step - loss: 1447972224.0000 - mae: 25202.7871\n",
            "WARNING:tensorflow:Early stopping conditioned on metric `val_loss` which is not available. Available metrics are: loss,mae\n",
            "Epoch 109/177\n",
            "489/489 [==============================] - 1s 2ms/step - loss: 1356679552.0000 - mae: 24010.5742\n",
            "WARNING:tensorflow:Early stopping conditioned on metric `val_loss` which is not available. Available metrics are: loss,mae\n",
            "Epoch 110/177\n",
            "489/489 [==============================] - 1s 2ms/step - loss: 1410085248.0000 - mae: 25673.8633\n",
            "WARNING:tensorflow:Early stopping conditioned on metric `val_loss` which is not available. Available metrics are: loss,mae\n",
            "Epoch 111/177\n",
            "489/489 [==============================] - 1s 2ms/step - loss: 1424888192.0000 - mae: 25093.4277\n",
            "WARNING:tensorflow:Early stopping conditioned on metric `val_loss` which is not available. Available metrics are: loss,mae\n",
            "Epoch 112/177\n",
            "489/489 [==============================] - 1s 2ms/step - loss: 1349753472.0000 - mae: 24048.7949\n",
            "WARNING:tensorflow:Early stopping conditioned on metric `val_loss` which is not available. Available metrics are: loss,mae\n",
            "Epoch 113/177\n",
            "489/489 [==============================] - 1s 2ms/step - loss: 1339145728.0000 - mae: 24430.5176\n",
            "WARNING:tensorflow:Early stopping conditioned on metric `val_loss` which is not available. Available metrics are: loss,mae\n",
            "Epoch 114/177\n",
            "489/489 [==============================] - 1s 2ms/step - loss: 1466489600.0000 - mae: 26235.2695\n",
            "WARNING:tensorflow:Early stopping conditioned on metric `val_loss` which is not available. Available metrics are: loss,mae\n",
            "Epoch 115/177\n",
            "489/489 [==============================] - 1s 2ms/step - loss: 1346556416.0000 - mae: 24840.9941\n",
            "WARNING:tensorflow:Early stopping conditioned on metric `val_loss` which is not available. Available metrics are: loss,mae\n",
            "Epoch 116/177\n",
            "489/489 [==============================] - 1s 2ms/step - loss: 1350785792.0000 - mae: 24632.1719\n",
            "WARNING:tensorflow:Early stopping conditioned on metric `val_loss` which is not available. Available metrics are: loss,mae\n",
            "Epoch 117/177\n",
            "489/489 [==============================] - 1s 2ms/step - loss: 1333755392.0000 - mae: 24650.1582\n",
            "WARNING:tensorflow:Early stopping conditioned on metric `val_loss` which is not available. Available metrics are: loss,mae\n",
            "Epoch 118/177\n",
            "489/489 [==============================] - 1s 2ms/step - loss: 1338238720.0000 - mae: 24286.5410\n",
            "WARNING:tensorflow:Early stopping conditioned on metric `val_loss` which is not available. Available metrics are: loss,mae\n",
            "Epoch 119/177\n",
            "489/489 [==============================] - 1s 2ms/step - loss: 1326369920.0000 - mae: 24102.3438\n",
            "WARNING:tensorflow:Early stopping conditioned on metric `val_loss` which is not available. Available metrics are: loss,mae\n",
            "Epoch 120/177\n",
            "489/489 [==============================] - 1s 2ms/step - loss: 1289075584.0000 - mae: 23983.3477\n",
            "WARNING:tensorflow:Early stopping conditioned on metric `val_loss` which is not available. Available metrics are: loss,mae\n",
            "Epoch 121/177\n",
            "489/489 [==============================] - 1s 2ms/step - loss: 1296794112.0000 - mae: 24842.2930\n",
            "WARNING:tensorflow:Early stopping conditioned on metric `val_loss` which is not available. Available metrics are: loss,mae\n",
            "Epoch 122/177\n",
            "489/489 [==============================] - 1s 2ms/step - loss: 1357119872.0000 - mae: 24661.3711\n",
            "WARNING:tensorflow:Early stopping conditioned on metric `val_loss` which is not available. Available metrics are: loss,mae\n",
            "Epoch 123/177\n",
            "489/489 [==============================] - 1s 2ms/step - loss: 1396945408.0000 - mae: 24954.0371\n",
            "WARNING:tensorflow:Early stopping conditioned on metric `val_loss` which is not available. Available metrics are: loss,mae\n",
            "Epoch 124/177\n",
            "489/489 [==============================] - 1s 2ms/step - loss: 1410293888.0000 - mae: 24672.8613\n",
            "WARNING:tensorflow:Early stopping conditioned on metric `val_loss` which is not available. Available metrics are: loss,mae\n",
            "Epoch 125/177\n",
            "489/489 [==============================] - 1s 2ms/step - loss: 1218809728.0000 - mae: 22900.3242\n",
            "WARNING:tensorflow:Early stopping conditioned on metric `val_loss` which is not available. Available metrics are: loss,mae\n",
            "Epoch 126/177\n",
            "489/489 [==============================] - 1s 2ms/step - loss: 1274175616.0000 - mae: 24612.6699\n",
            "WARNING:tensorflow:Early stopping conditioned on metric `val_loss` which is not available. Available metrics are: loss,mae\n",
            "Epoch 127/177\n",
            "489/489 [==============================] - 1s 2ms/step - loss: 1245019776.0000 - mae: 24155.9512\n",
            "WARNING:tensorflow:Early stopping conditioned on metric `val_loss` which is not available. Available metrics are: loss,mae\n",
            "Epoch 128/177\n",
            "489/489 [==============================] - 1s 2ms/step - loss: 1301330176.0000 - mae: 24220.5820\n",
            "WARNING:tensorflow:Early stopping conditioned on metric `val_loss` which is not available. Available metrics are: loss,mae\n",
            "Epoch 129/177\n",
            "489/489 [==============================] - 1s 2ms/step - loss: 1282228096.0000 - mae: 24398.9844\n",
            "WARNING:tensorflow:Early stopping conditioned on metric `val_loss` which is not available. Available metrics are: loss,mae\n",
            "Epoch 130/177\n",
            "489/489 [==============================] - 1s 2ms/step - loss: 1268626048.0000 - mae: 24112.2949\n",
            "WARNING:tensorflow:Early stopping conditioned on metric `val_loss` which is not available. Available metrics are: loss,mae\n",
            "Epoch 131/177\n",
            "489/489 [==============================] - 1s 2ms/step - loss: 1222919424.0000 - mae: 23986.3965\n",
            "WARNING:tensorflow:Early stopping conditioned on metric `val_loss` which is not available. Available metrics are: loss,mae\n",
            "Epoch 132/177\n",
            "489/489 [==============================] - 1s 2ms/step - loss: 1364656384.0000 - mae: 25160.1699\n",
            "WARNING:tensorflow:Early stopping conditioned on metric `val_loss` which is not available. Available metrics are: loss,mae\n",
            "Epoch 133/177\n",
            "489/489 [==============================] - 1s 2ms/step - loss: 1097920896.0000 - mae: 23574.4414\n",
            "WARNING:tensorflow:Early stopping conditioned on metric `val_loss` which is not available. Available metrics are: loss,mae\n",
            "Epoch 134/177\n",
            "489/489 [==============================] - 1s 2ms/step - loss: 1326068608.0000 - mae: 26055.2852\n",
            "WARNING:tensorflow:Early stopping conditioned on metric `val_loss` which is not available. Available metrics are: loss,mae\n",
            "Epoch 135/177\n",
            "489/489 [==============================] - 1s 2ms/step - loss: 1273671936.0000 - mae: 23860.6328\n",
            "WARNING:tensorflow:Early stopping conditioned on metric `val_loss` which is not available. Available metrics are: loss,mae\n",
            "Epoch 136/177\n",
            "489/489 [==============================] - 1s 2ms/step - loss: 1280410752.0000 - mae: 24777.2949\n",
            "WARNING:tensorflow:Early stopping conditioned on metric `val_loss` which is not available. Available metrics are: loss,mae\n",
            "Epoch 137/177\n",
            "489/489 [==============================] - 1s 2ms/step - loss: 1302664704.0000 - mae: 24259.4082\n",
            "WARNING:tensorflow:Early stopping conditioned on metric `val_loss` which is not available. Available metrics are: loss,mae\n",
            "Epoch 138/177\n",
            "489/489 [==============================] - 1s 2ms/step - loss: 1259140992.0000 - mae: 23823.4590\n",
            "WARNING:tensorflow:Early stopping conditioned on metric `val_loss` which is not available. Available metrics are: loss,mae\n",
            "Epoch 139/177\n",
            "489/489 [==============================] - 1s 2ms/step - loss: 1249695232.0000 - mae: 23939.1797\n",
            "WARNING:tensorflow:Early stopping conditioned on metric `val_loss` which is not available. Available metrics are: loss,mae\n",
            "Epoch 140/177\n",
            "489/489 [==============================] - 1s 2ms/step - loss: 1312793344.0000 - mae: 24409.2227\n",
            "WARNING:tensorflow:Early stopping conditioned on metric `val_loss` which is not available. Available metrics are: loss,mae\n",
            "Epoch 141/177\n",
            "489/489 [==============================] - 1s 2ms/step - loss: 1225841024.0000 - mae: 24259.4434\n",
            "WARNING:tensorflow:Early stopping conditioned on metric `val_loss` which is not available. Available metrics are: loss,mae\n",
            "Epoch 142/177\n",
            "489/489 [==============================] - 1s 2ms/step - loss: 1451474816.0000 - mae: 25273.2461\n",
            "WARNING:tensorflow:Early stopping conditioned on metric `val_loss` which is not available. Available metrics are: loss,mae\n",
            "Epoch 143/177\n",
            "489/489 [==============================] - 1s 2ms/step - loss: 1141083904.0000 - mae: 23189.8926\n",
            "WARNING:tensorflow:Early stopping conditioned on metric `val_loss` which is not available. Available metrics are: loss,mae\n",
            "Epoch 144/177\n",
            "489/489 [==============================] - 1s 2ms/step - loss: 1254307072.0000 - mae: 24200.7949\n",
            "WARNING:tensorflow:Early stopping conditioned on metric `val_loss` which is not available. Available metrics are: loss,mae\n",
            "Epoch 145/177\n",
            "489/489 [==============================] - 1s 2ms/step - loss: 1374605056.0000 - mae: 24531.3555\n",
            "WARNING:tensorflow:Early stopping conditioned on metric `val_loss` which is not available. Available metrics are: loss,mae\n",
            "Epoch 146/177\n",
            "489/489 [==============================] - 1s 2ms/step - loss: 1252680320.0000 - mae: 23654.2852\n",
            "WARNING:tensorflow:Early stopping conditioned on metric `val_loss` which is not available. Available metrics are: loss,mae\n",
            "Epoch 147/177\n",
            "489/489 [==============================] - 1s 2ms/step - loss: 1369303552.0000 - mae: 24536.5918\n",
            "WARNING:tensorflow:Early stopping conditioned on metric `val_loss` which is not available. Available metrics are: loss,mae\n",
            "Epoch 148/177\n",
            "489/489 [==============================] - 1s 2ms/step - loss: 1327539200.0000 - mae: 24535.0996\n",
            "WARNING:tensorflow:Early stopping conditioned on metric `val_loss` which is not available. Available metrics are: loss,mae\n",
            "Epoch 149/177\n",
            "489/489 [==============================] - 1s 2ms/step - loss: 1288106112.0000 - mae: 24216.3945\n",
            "WARNING:tensorflow:Early stopping conditioned on metric `val_loss` which is not available. Available metrics are: loss,mae\n",
            "Epoch 150/177\n",
            "489/489 [==============================] - 1s 2ms/step - loss: 1233500800.0000 - mae: 24020.4336\n",
            "WARNING:tensorflow:Early stopping conditioned on metric `val_loss` which is not available. Available metrics are: loss,mae\n",
            "Epoch 151/177\n",
            "489/489 [==============================] - 1s 2ms/step - loss: 1358547072.0000 - mae: 25075.6387\n",
            "WARNING:tensorflow:Early stopping conditioned on metric `val_loss` which is not available. Available metrics are: loss,mae\n",
            "Epoch 152/177\n",
            "489/489 [==============================] - 1s 2ms/step - loss: 1256272768.0000 - mae: 24168.1211\n",
            "WARNING:tensorflow:Early stopping conditioned on metric `val_loss` which is not available. Available metrics are: loss,mae\n",
            "Epoch 153/177\n",
            "489/489 [==============================] - 1s 2ms/step - loss: 1167715968.0000 - mae: 23483.2129\n",
            "WARNING:tensorflow:Early stopping conditioned on metric `val_loss` which is not available. Available metrics are: loss,mae\n",
            "Epoch 154/177\n",
            "489/489 [==============================] - 1s 2ms/step - loss: 1353114752.0000 - mae: 24910.5859\n",
            "WARNING:tensorflow:Early stopping conditioned on metric `val_loss` which is not available. Available metrics are: loss,mae\n",
            "Epoch 155/177\n",
            "489/489 [==============================] - 1s 2ms/step - loss: 1140037888.0000 - mae: 23194.2285\n",
            "WARNING:tensorflow:Early stopping conditioned on metric `val_loss` which is not available. Available metrics are: loss,mae\n",
            "Epoch 156/177\n",
            "489/489 [==============================] - 1s 2ms/step - loss: 1295421952.0000 - mae: 23972.4688\n",
            "WARNING:tensorflow:Early stopping conditioned on metric `val_loss` which is not available. Available metrics are: loss,mae\n",
            "Epoch 157/177\n",
            "489/489 [==============================] - 1s 2ms/step - loss: 1306007936.0000 - mae: 24680.2031\n",
            "WARNING:tensorflow:Early stopping conditioned on metric `val_loss` which is not available. Available metrics are: loss,mae\n",
            "Epoch 158/177\n",
            "489/489 [==============================] - 1s 2ms/step - loss: 1253029888.0000 - mae: 23605.8809\n",
            "WARNING:tensorflow:Early stopping conditioned on metric `val_loss` which is not available. Available metrics are: loss,mae\n",
            "Epoch 159/177\n",
            "489/489 [==============================] - 1s 2ms/step - loss: 1231686016.0000 - mae: 23978.7031\n",
            "WARNING:tensorflow:Early stopping conditioned on metric `val_loss` which is not available. Available metrics are: loss,mae\n",
            "Epoch 160/177\n",
            "489/489 [==============================] - 1s 2ms/step - loss: 1212955264.0000 - mae: 24556.0664\n",
            "WARNING:tensorflow:Early stopping conditioned on metric `val_loss` which is not available. Available metrics are: loss,mae\n",
            "Epoch 161/177\n",
            "489/489 [==============================] - 1s 2ms/step - loss: 1120492544.0000 - mae: 22607.9141\n",
            "WARNING:tensorflow:Early stopping conditioned on metric `val_loss` which is not available. Available metrics are: loss,mae\n",
            "Epoch 162/177\n",
            "489/489 [==============================] - 1s 2ms/step - loss: 1190552320.0000 - mae: 23457.1289\n",
            "WARNING:tensorflow:Early stopping conditioned on metric `val_loss` which is not available. Available metrics are: loss,mae\n",
            "Epoch 163/177\n",
            "489/489 [==============================] - 1s 2ms/step - loss: 1184290688.0000 - mae: 22815.0898\n",
            "WARNING:tensorflow:Early stopping conditioned on metric `val_loss` which is not available. Available metrics are: loss,mae\n",
            "Epoch 164/177\n",
            "489/489 [==============================] - 1s 2ms/step - loss: 1263806848.0000 - mae: 24104.0273\n",
            "WARNING:tensorflow:Early stopping conditioned on metric `val_loss` which is not available. Available metrics are: loss,mae\n",
            "Epoch 165/177\n",
            "489/489 [==============================] - 1s 2ms/step - loss: 1241570048.0000 - mae: 23643.3379\n",
            "WARNING:tensorflow:Early stopping conditioned on metric `val_loss` which is not available. Available metrics are: loss,mae\n",
            "Epoch 166/177\n",
            "489/489 [==============================] - 1s 2ms/step - loss: 1166882432.0000 - mae: 23088.7441\n",
            "WARNING:tensorflow:Early stopping conditioned on metric `val_loss` which is not available. Available metrics are: loss,mae\n",
            "Epoch 167/177\n",
            "489/489 [==============================] - 1s 2ms/step - loss: 1210836352.0000 - mae: 23765.2559\n",
            "WARNING:tensorflow:Early stopping conditioned on metric `val_loss` which is not available. Available metrics are: loss,mae\n",
            "Epoch 168/177\n",
            "489/489 [==============================] - 1s 2ms/step - loss: 1059820544.0000 - mae: 22575.3828\n",
            "WARNING:tensorflow:Early stopping conditioned on metric `val_loss` which is not available. Available metrics are: loss,mae\n",
            "Epoch 169/177\n",
            "489/489 [==============================] - 1s 2ms/step - loss: 1228146304.0000 - mae: 24505.1562\n",
            "WARNING:tensorflow:Early stopping conditioned on metric `val_loss` which is not available. Available metrics are: loss,mae\n",
            "Epoch 170/177\n",
            "489/489 [==============================] - 1s 2ms/step - loss: 1139952512.0000 - mae: 23307.0742\n",
            "WARNING:tensorflow:Early stopping conditioned on metric `val_loss` which is not available. Available metrics are: loss,mae\n",
            "Epoch 171/177\n",
            "489/489 [==============================] - 1s 2ms/step - loss: 1239053440.0000 - mae: 23536.6758\n",
            "WARNING:tensorflow:Early stopping conditioned on metric `val_loss` which is not available. Available metrics are: loss,mae\n",
            "Epoch 172/177\n",
            "489/489 [==============================] - 1s 2ms/step - loss: 1223574656.0000 - mae: 24832.6992\n",
            "WARNING:tensorflow:Early stopping conditioned on metric `val_loss` which is not available. Available metrics are: loss,mae\n",
            "Epoch 173/177\n",
            "489/489 [==============================] - 1s 2ms/step - loss: 1320930432.0000 - mae: 24624.6992\n",
            "WARNING:tensorflow:Early stopping conditioned on metric `val_loss` which is not available. Available metrics are: loss,mae\n",
            "Epoch 174/177\n",
            "489/489 [==============================] - 1s 2ms/step - loss: 1309267328.0000 - mae: 24045.3770\n",
            "WARNING:tensorflow:Early stopping conditioned on metric `val_loss` which is not available. Available metrics are: loss,mae\n",
            "Epoch 175/177\n",
            "489/489 [==============================] - 1s 2ms/step - loss: 1177283328.0000 - mae: 23459.4082\n",
            "WARNING:tensorflow:Early stopping conditioned on metric `val_loss` which is not available. Available metrics are: loss,mae\n",
            "Epoch 176/177\n",
            "489/489 [==============================] - 1s 2ms/step - loss: 1206167296.0000 - mae: 23992.9609\n",
            "WARNING:tensorflow:Early stopping conditioned on metric `val_loss` which is not available. Available metrics are: loss,mae\n",
            "Epoch 177/177\n",
            "489/489 [==============================] - 1s 2ms/step - loss: 1223138048.0000 - mae: 23779.2070\n",
            "WARNING:tensorflow:Early stopping conditioned on metric `val_loss` which is not available. Available metrics are: loss,mae\n"
          ],
          "name": "stdout"
        },
        {
          "output_type": "execute_result",
          "data": {
            "text/plain": [
              "<tensorflow.python.keras.callbacks.History at 0x7f4c60ff93c8>"
            ]
          },
          "metadata": {
            "tags": []
          },
          "execution_count": 99
        }
      ]
    },
    {
      "cell_type": "code",
      "metadata": {
        "id": "VsuNrWW9V5LE"
      },
      "source": [
        "tf_predictions = model.predict(features_test_norm)"
      ],
      "execution_count": 101,
      "outputs": []
    },
    {
      "cell_type": "code",
      "metadata": {
        "colab": {
          "base_uri": "https://localhost:8080/",
          "height": 299
        },
        "id": "hOKhB_jtVNo1",
        "outputId": "7a9e021b-0014-49b2-9980-60ff958f9ffb"
      },
      "source": [
        "plt.scatter(labels_test, tf_predictions)\n",
        "x = range(500000)\n",
        "y = range(500000)\n",
        "plt.plot(x, y , color='red')\n",
        "\n",
        "plt.xlabel(\"Prices: $Y_i$\")\n",
        "plt.ylabel(\"Predicted prices: $\\hat{Y}_i$\")\n",
        "plt.title(\"Actual Rent vs Predicted Rent\")\n",
        "\n",
        "plt.show()"
      ],
      "execution_count": 106,
      "outputs": [
        {
          "output_type": "display_data",
          "data": {
            "image/png": "[encoded data removed]",
            "text/plain": [
              "<Figure size 432x288 with 1 Axes>"
            ]
          },
          "metadata": {
            "tags": [],
            "needs_background": "light"
          }
        }
      ]
    },
    {
      "cell_type": "code",
      "metadata": {
        "id": "i3UV00ZCZ9Gp"
      },
      "source": [
        "tf_val_mse, tf_val_mae = model.evaluate(features_test_norm, labels_test, verbose=0)"
      ],
      "execution_count": 120,
      "outputs": []
    },
    {
      "cell_type": "code",
      "metadata": {
        "colab": {
          "base_uri": "https://localhost:8080/"
        },
        "id": "qlC36KDceQ_j",
        "outputId": "1c43e834-0682-405f-c933-53e65b2e75ff"
      },
      "source": [
        "tf_val_mae"
      ],
      "execution_count": 121,
      "outputs": [
        {
          "output_type": "execute_result",
          "data": {
            "text/plain": [
              "20423.267578125"
            ]
          },
          "metadata": {
            "tags": []
          },
          "execution_count": 121
        }
      ]
    },
    {
      "cell_type": "markdown",
      "metadata": {
        "id": "dyGQc3NOfKeu"
      },
      "source": [
        "Not bad"
      ]
    },
    {
      "cell_type": "markdown",
      "metadata": {
        "id": "gHXrFv67f1Ky"
      },
      "source": [
        "#### Tensorflow model has a lower mae by about 7000 than mlr model."
      ]
    }
  ]
}